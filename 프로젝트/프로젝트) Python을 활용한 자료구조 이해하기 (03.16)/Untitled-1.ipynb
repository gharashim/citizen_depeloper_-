{
 "cells": [
  {
   "cell_type": "code",
   "execution_count": null,
   "metadata": {},
   "outputs": [],
   "source": [
    "N = int(input())\n",
    "카드 = set(map(int, input().split()))\n",
    "M = int(input())\n",
    "숫자 = list(map(int, input().split()))\n",
    "\n",
    "for m in 숫자:\n",
    "    if len(카드|set(m)) == len(카드):\n",
    "        print(1, end = ' ')\n",
    "    else:\n",
    "        print(1, end = ' ')"
   ]
  }
 ],
 "metadata": {
  "language_info": {
   "name": "python"
  },
  "orig_nbformat": 4
 },
 "nbformat": 4,
 "nbformat_minor": 2
}
