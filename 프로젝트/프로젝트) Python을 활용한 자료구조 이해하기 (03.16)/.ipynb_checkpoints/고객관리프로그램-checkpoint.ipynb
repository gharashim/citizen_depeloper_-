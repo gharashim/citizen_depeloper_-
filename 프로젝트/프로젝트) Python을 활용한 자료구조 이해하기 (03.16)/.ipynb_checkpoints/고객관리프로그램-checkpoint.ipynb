{
 "cells": [
  {
   "cell_type": "code",
   "execution_count": 1,
   "id": "1a784664",
   "metadata": {},
   "outputs": [],
   "source": [
    "class Node:\n",
    "    # pass\n",
    "    def __init__(\n",
    "            self,\n",
    "            name = None,\n",
    "            tel = None,\n",
    "            phone = None,\n",
    "            next = None\n",
    "    ) -> None:\n",
    "        self.name = name\n",
    "        self.tel = tel\n",
    "        self.phone = phone\n",
    "        self.next = next\n",
    "\n",
    "\n",
    "class LinkedList:\n",
    "    # pass\n",
    "    def __init__(self) -> None:\n",
    "        self.root = None\n",
    "    \n",
    "    def add_data_rear(self, n) -> None:\n",
    "        if self.root is None:\n",
    "            self.root = n\n",
    "        else:\n",
    "            curr = self.root\n",
    "            while curr.next:\n",
    "                curr = curr.next\n",
    "            curr.next = n\n",
    "    \n",
    "    def show(self) -> None: # 연결된 node의 data를 순서대로 보여주는 메서드 구현\n",
    "        curr= self.root\n",
    "        while curr: # 연결 리스트가 끝인지 확인\n",
    "            print(curr.name, curr.tel, curr.phone) # 값 출력\n",
    "            curr = curr.next # 이동\n",
    "    \n",
    "    def pop_first(self) -> None:\n",
    "        curr = self.root\n",
    "        if self.root:\n",
    "            self.root = self.root.next\n",
    "        print('{}님의 핸드폰이 출고 되었습니다.'.format(curr.name))\n",
    "        print('연락처 : {}'.format(curr.tel))\n",
    "        print('구매기종 : {}'.format(curr.phone))\n",
    "    \n",
    "    def search_data(self, val) -> None:\n",
    "        curr = self.root\n",
    "        if self.root is None:\n",
    "            print('현재 예약 고객은 0명 입니다.')\n",
    "        else:\n",
    "            while curr:\n",
    "                if curr.name == val:\n",
    "                    print('{} 님의 예약 정보 입니다.'.format(curr.name))\n",
    "                    print('전화 : {}'.format(curr.tel))\n",
    "                    print('모델 : {}'.format(curr.phone))\n",
    "                curr = curr.next\n",
    "    \n",
    "    def write_data(self) -> list:\n",
    "        curr = self.root\n",
    "        result = []\n",
    "        while curr.next:\n",
    "            result.append([curr.name, curr.tel, curr.phone])\n",
    "            curr = curr.next\n",
    "        return result\n",
    "\n",
    "\n",
    "\n",
    "def load_database(ds: LinkedList):\n",
    "    # 파일의 데이터를 읽어 Node 객체에 저장하고\n",
    "    # Node를 LinkedList에 추가\n",
    "    # pass\n",
    "    with open('db.txt', mode = 'r', encoding = 'utf-8') as f:\n",
    "        while True:\n",
    "            line = f.readline()\n",
    "            if line == '': break\n",
    "            ds.add_data_rear(Node(*line.split()))\n",
    "\n",
    "\n",
    "def reserve_product(ds: LinkedList):\n",
    "    # 사용자로부터 정보를 입력 받아 Node를 구성\n",
    "    # Node를 LinkedList의 끝(root에서 가장 먼 곳)에 추가\n",
    "    # pass\n",
    "    name = input('이름 : ')\n",
    "    tel = input('번호 : ')\n",
    "    phone = input('기종 : ')\n",
    "\n",
    "    ds.add_data_rear(Node(name, tel, phone))\n",
    "\n",
    "\n",
    "def ship_product(ds: LinkedList):\n",
    "    # LinkedList의 가장 앞단의 Node를 제거\n",
    "    ds.pop_first()\n",
    "\n",
    "\n",
    "def search_customer(ds: LinkedList):\n",
    "    # 사용자로부터 정보를 입력 받아 LinkedList에 탐색 후 결과 출력\n",
    "    # pass\n",
    "    print('[예약 검색]')\n",
    "    name = input('이름 :')\n",
    "    ds.search_data(name)\n",
    "\n",
    "\n",
    "def remove_customer(ds: LinkedList):\n",
    "    # 입력된 고객 정보를 포함하는 Node를 LinkedList에서 제거\n",
    "    pass\n",
    "\n",
    "\n",
    "def write_database(ds: LinkedList):\n",
    "    # ds에 저장된 데이터를 파일로 저장\n",
    "    # pass\n",
    "    result = ds.write_data()\n",
    "    with open('result.txt', mode = 'w', encoding = 'utf-8') as f:\n",
    "        for i in range(len(result) - 1):\n",
    "            line = result[i]\n",
    "            f.write(str(line[0]) + ' ' + str(line[1]) + ' ' + str(line[2]) + '\\n')\n",
    "        line = result[-1]\n",
    "        f.write(str(line[0]) + ' ' + str(line[1]) + ' ' + str(line[2]))"
   ]
  },
  {
   "cell_type": "code",
   "execution_count": 3,
   "id": "439d5d54",
   "metadata": {},
   "outputs": [],
   "source": [
    "ds = LinkedList()\n",
    "load_database(ds)"
   ]
  },
  {
   "cell_type": "code",
   "execution_count": 60,
   "id": "b1757c8a",
   "metadata": {},
   "outputs": [
    {
     "name": "stdout",
     "output_type": "stream",
     "text": [
      "이름 : .\n",
      "번호 : .\n",
      "기종 : .\n"
     ]
    }
   ],
   "source": [
    "reserve_product(ds)"
   ]
  },
  {
   "cell_type": "code",
   "execution_count": 67,
   "id": "d7cbcb51",
   "metadata": {},
   "outputs": [
    {
     "name": "stdout",
     "output_type": "stream",
     "text": [
      "박민아 010-2222-3333 갤럭시S21\n",
      "이지수 010-3333-4444 갤럭시노트20\n",
      "김한결 010-4444-5555 갤럭시Z플립3\n",
      "최승현 010-5555-6666 갤럭시S21\n",
      "장민희 010-6666-7777 갤럭시노트20\n",
      "이성우 010-7777-8888 갤럭시Z플립3\n",
      "김영진 010-8888-9999 갤럭시S21\n",
      "박준형 010-9999-0000 갤럭시노트20\n",
      "황혜진 010-0000-1111 갤럭시Z플립3\n",
      "장미란 010-1111-2222 갤럭시S21\n",
      "박성준 010-2222-3333 갤럭시노트20\n",
      "김수민 010-3333-4444 갤럭시Z플립3\n",
      "최현준 010-4444-5555 갤럭시S21\n",
      "이승민 010-5555-6666 갤럭시노트20\n",
      "장혜원 010-6666-7777 갤럭시Z플립3\n",
      "김윤진 010-7777-8888 갤럭시S21\n",
      "박영철 010-8888-9999 갤럭시노트20\n",
      "정순영 010-9999-0000 갤럭시Z플립3\n",
      "김재원 010-0000-1111 갤럭시S21\n",
      "이현민 010-1111-2222 갤럭시노트20\n",
      "장정은 010-2222-3333 갤럭시Z플립3\n",
      "박민철 010-3333-4444 갤럭시S21\n",
      "최영희 010-4444-5555 갤럭시노트20\n",
      "이재혁 010-5555-6666 갤럭시Z플립3\n",
      "김수진 010-6666-7777 갤럭시S21\n",
      ". . .\n"
     ]
    }
   ],
   "source": [
    "ds.show()"
   ]
  },
  {
   "cell_type": "code",
   "execution_count": 62,
   "id": "4924f91b",
   "metadata": {},
   "outputs": [
    {
     "name": "stdout",
     "output_type": "stream",
     "text": [
      "김동현님의 핸드폰이 출고 되었습니다.\n",
      "연락처 : 010-1111-2222\n",
      "구매기종 : 갤럭시Z플립3\n"
     ]
    }
   ],
   "source": [
    "ship_product(ds)"
   ]
  },
  {
   "cell_type": "code",
   "execution_count": 63,
   "id": "d2be2d33",
   "metadata": {},
   "outputs": [
    {
     "name": "stdout",
     "output_type": "stream",
     "text": [
      "박민아 010-2222-3333 갤럭시S21\n",
      "이지수 010-3333-4444 갤럭시노트20\n",
      "김한결 010-4444-5555 갤럭시Z플립3\n",
      "최승현 010-5555-6666 갤럭시S21\n",
      "장민희 010-6666-7777 갤럭시노트20\n",
      "이성우 010-7777-8888 갤럭시Z플립3\n",
      "김영진 010-8888-9999 갤럭시S21\n",
      "박준형 010-9999-0000 갤럭시노트20\n",
      "황혜진 010-0000-1111 갤럭시Z플립3\n",
      "장미란 010-1111-2222 갤럭시S21\n",
      "박성준 010-2222-3333 갤럭시노트20\n",
      "김수민 010-3333-4444 갤럭시Z플립3\n",
      "최현준 010-4444-5555 갤럭시S21\n",
      "이승민 010-5555-6666 갤럭시노트20\n",
      "장혜원 010-6666-7777 갤럭시Z플립3\n",
      "김윤진 010-7777-8888 갤럭시S21\n",
      "박영철 010-8888-9999 갤럭시노트20\n",
      "정순영 010-9999-0000 갤럭시Z플립3\n",
      "김재원 010-0000-1111 갤럭시S21\n",
      "이현민 010-1111-2222 갤럭시노트20\n",
      "장정은 010-2222-3333 갤럭시Z플립3\n",
      "박민철 010-3333-4444 갤럭시S21\n",
      "최영희 010-4444-5555 갤럭시노트20\n",
      "이재혁 010-5555-6666 갤럭시Z플립3\n",
      "김수진 010-6666-7777 갤럭시S21\n",
      ". . .\n"
     ]
    }
   ],
   "source": [
    "ds.show()"
   ]
  },
  {
   "cell_type": "code",
   "execution_count": 81,
   "id": "1f18854a",
   "metadata": {},
   "outputs": [],
   "source": [
    "write_database(ds)"
   ]
  },
  {
   "cell_type": "code",
   "execution_count": 82,
   "id": "f5d80009",
   "metadata": {},
   "outputs": [],
   "source": [
    "result = ds.write_data()\n",
    "with open('result.txt', mode = 'w', encoding = 'utf-8') as f:\n",
    "    for i in range(len(result) - 1):\n",
    "        line = result[i]\n",
    "        f.write(str(line[0]) + ' ' + str(line[1]) + ' ' + str(line[2]) + '\\n')\n",
    "    line = result[-1]\n",
    "    f.write(str(line[0]) + ' ' + str(line[1]) + ' ' + str(line[2]))"
   ]
  },
  {
   "cell_type": "code",
   "execution_count": 4,
   "id": "6b462905",
   "metadata": {},
   "outputs": [
    {
     "data": {
      "text/plain": [
       "[['김동현', '010-1111-2222', '갤럭시Z플립3'],\n",
       " ['박민아', '010-2222-3333', '갤럭시S21'],\n",
       " ['이지수', '010-3333-4444', '갤럭시노트20'],\n",
       " ['김한결', '010-4444-5555', '갤럭시Z플립3'],\n",
       " ['최승현', '010-5555-6666', '갤럭시S21'],\n",
       " ['장민희', '010-6666-7777', '갤럭시노트20'],\n",
       " ['이성우', '010-7777-8888', '갤럭시Z플립3'],\n",
       " ['김영진', '010-8888-9999', '갤럭시S21'],\n",
       " ['박준형', '010-9999-0000', '갤럭시노트20'],\n",
       " ['황혜진', '010-0000-1111', '갤럭시Z플립3'],\n",
       " ['장미란', '010-1111-2222', '갤럭시S21'],\n",
       " ['박성준', '010-2222-3333', '갤럭시노트20'],\n",
       " ['김수민', '010-3333-4444', '갤럭시Z플립3'],\n",
       " ['최현준', '010-4444-5555', '갤럭시S21'],\n",
       " ['이승민', '010-5555-6666', '갤럭시노트20'],\n",
       " ['장혜원', '010-6666-7777', '갤럭시Z플립3'],\n",
       " ['김윤진', '010-7777-8888', '갤럭시S21'],\n",
       " ['박영철', '010-8888-9999', '갤럭시노트20'],\n",
       " ['정순영', '010-9999-0000', '갤럭시Z플립3'],\n",
       " ['김재원', '010-0000-1111', '갤럭시S21'],\n",
       " ['이현민', '010-1111-2222', '갤럭시노트20'],\n",
       " ['장정은', '010-2222-3333', '갤럭시Z플립3'],\n",
       " ['박민철', '010-3333-4444', '갤럭시S21'],\n",
       " ['최영희', '010-4444-5555', '갤럭시노트20'],\n",
       " ['이재혁', '010-5555-6666', '갤럭시Z플립3']]"
      ]
     },
     "execution_count": 4,
     "metadata": {},
     "output_type": "execute_result"
    }
   ],
   "source": [
    "result = ds.write_data()\n",
    "result"
   ]
  }
 ],
 "metadata": {
  "kernelspec": {
   "display_name": "Python 3 (ipykernel)",
   "language": "python",
   "name": "python3"
  },
  "language_info": {
   "codemirror_mode": {
    "name": "ipython",
    "version": 3
   },
   "file_extension": ".py",
   "mimetype": "text/x-python",
   "name": "python",
   "nbconvert_exporter": "python",
   "pygments_lexer": "ipython3",
   "version": "3.7.16"
  }
 },
 "nbformat": 4,
 "nbformat_minor": 5
}
