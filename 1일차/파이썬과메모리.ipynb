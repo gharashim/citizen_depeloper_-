{
 "cells": [
  {
   "cell_type": "code",
   "execution_count": 1,
   "id": "a86846b5",
   "metadata": {},
   "outputs": [
    {
     "name": "stdout",
     "output_type": "stream",
     "text": [
      "2741556157104 2741556157104\n"
     ]
    }
   ],
   "source": [
    "a = 't'\n",
    "b = 't'\n",
    "\n",
    "print(id(a), id(b))"
   ]
  },
  {
   "cell_type": "code",
   "execution_count": 2,
   "id": "6be1a62d",
   "metadata": {},
   "outputs": [
    {
     "name": "stdout",
     "output_type": "stream",
     "text": [
      "2741556157104 2741556157104\n"
     ]
    }
   ],
   "source": [
    "a = 't'\n",
    "b = 't'\n",
    "print(id(a), id(b))"
   ]
  },
  {
   "cell_type": "code",
   "execution_count": 3,
   "id": "493de7b2",
   "metadata": {},
   "outputs": [
    {
     "name": "stdout",
     "output_type": "stream",
     "text": [
      "140716495516880 140716495516880\n"
     ]
    }
   ],
   "source": [
    "a = 10\n",
    "b = 10\n",
    "print(id(a), id(b))"
   ]
  },
  {
   "cell_type": "code",
   "execution_count": 4,
   "id": "a76771f7",
   "metadata": {},
   "outputs": [
    {
     "ename": "SyntaxError",
     "evalue": "unexpected EOF while parsing (2434430507.py, line 4)",
     "output_type": "error",
     "traceback": [
      "\u001b[1;36m  File \u001b[1;32m\"C:\\Users\\rkfka\\AppData\\Local\\Temp\\ipykernel_13156\\2434430507.py\"\u001b[1;36m, line \u001b[1;32m4\u001b[0m\n\u001b[1;33m    print(id(a), id(b)\u001b[0m\n\u001b[1;37m                      ^\u001b[0m\n\u001b[1;31mSyntaxError\u001b[0m\u001b[1;31m:\u001b[0m unexpected EOF while parsing\n"
     ]
    }
   ],
   "source": [
    "a = 10000\n",
    "b = 10000\n",
    "\n",
    "print(id(a), id(b)"
   ]
  },
  {
   "cell_type": "code",
   "execution_count": 5,
   "id": "7e791ecf",
   "metadata": {},
   "outputs": [
    {
     "name": "stdout",
     "output_type": "stream",
     "text": [
      "257 257 2741616795344 2741616794704\n",
      "-6 -6 2741616794704 2741616795184\n"
     ]
    }
   ],
   "source": [
    "a = 0\n",
    "b = 0\n",
    "\n",
    "while(1):   \n",
    "    if id(a) != id(b):\n",
    "        print(a, b, id(a), id(b))\n",
    "        break\n",
    "    a += 1\n",
    "    b += 1\n",
    "#     print(a, b)\n",
    "a = 0\n",
    "b = 0\n",
    "while(1):   \n",
    "    if id(a) != id(b):\n",
    "        print(a, b, id(a), id(b))\n",
    "        break\n",
    "    a -= 1\n",
    "    b -= 1\n",
    "## 파이썬은 -5 ~ 256까지의 정수형에 대해 동일한 메모리 주소를 사용한다."
   ]
  },
  {
   "cell_type": "code",
   "execution_count": 6,
   "id": "ac3afe88",
   "metadata": {},
   "outputs": [
    {
     "name": "stdout",
     "output_type": "stream",
     "text": [
      "140716495516880 140716495517264\n"
     ]
    }
   ],
   "source": [
    "a = 10\n",
    "b = 10\n",
    "b = a + b + 2\n",
    "\n",
    "print(id(a), id(b))"
   ]
  },
  {
   "cell_type": "code",
   "execution_count": 7,
   "id": "f12481a8",
   "metadata": {},
   "outputs": [
    {
     "ename": "TypeError",
     "evalue": "'str' object does not support item assignment",
     "output_type": "error",
     "traceback": [
      "\u001b[1;31m---------------------------------------------------------------------------\u001b[0m",
      "\u001b[1;31mTypeError\u001b[0m                                 Traceback (most recent call last)",
      "\u001b[1;32m~\\AppData\\Local\\Temp\\ipykernel_13156\\2144063467.py\u001b[0m in \u001b[0;36m<module>\u001b[1;34m\u001b[0m\n\u001b[0;32m      1\u001b[0m \u001b[0ma\u001b[0m \u001b[1;33m=\u001b[0m \u001b[1;34m'hi'\u001b[0m\u001b[1;33m\u001b[0m\u001b[1;33m\u001b[0m\u001b[0m\n\u001b[1;32m----> 2\u001b[1;33m \u001b[0ma\u001b[0m\u001b[1;33m[\u001b[0m\u001b[1;36m0\u001b[0m\u001b[1;33m]\u001b[0m \u001b[1;33m=\u001b[0m \u001b[1;34m'H'\u001b[0m\u001b[1;33m\u001b[0m\u001b[1;33m\u001b[0m\u001b[0m\n\u001b[0m\u001b[0;32m      3\u001b[0m \u001b[1;33m\u001b[0m\u001b[0m\n\u001b[0;32m      4\u001b[0m \u001b[1;31m# 문자열의 직접적인 수정은 문법적으로 불가\u001b[0m\u001b[1;33m\u001b[0m\u001b[1;33m\u001b[0m\u001b[1;33m\u001b[0m\u001b[0m\n",
      "\u001b[1;31mTypeError\u001b[0m: 'str' object does not support item assignment"
     ]
    }
   ],
   "source": [
    "a = 'hi'\n",
    "a[0] = 'H'\n",
    "\n",
    "# 문자열의 직접적인 수정은 문법적으로 불가"
   ]
  },
  {
   "cell_type": "code",
   "execution_count": 8,
   "id": "69339f4a",
   "metadata": {},
   "outputs": [
    {
     "name": "stdout",
     "output_type": "stream",
     "text": [
      "Hi\n"
     ]
    }
   ],
   "source": [
    "a = 'hi'\n",
    "a = 'H' + a[1:]\n",
    "print(a)"
   ]
  },
  {
   "cell_type": "code",
   "execution_count": 12,
   "id": "b58712ff",
   "metadata": {},
   "outputs": [
    {
     "name": "stdout",
     "output_type": "stream",
     "text": [
      "20 10\n"
     ]
    }
   ],
   "source": [
    "a = 10\n",
    "b = 20\n",
    "\n",
    "t = a\n",
    "a = b\n",
    "b = t\n",
    "\n",
    "print(a, b)"
   ]
  },
  {
   "cell_type": "code",
   "execution_count": 13,
   "id": "48fd3cb2",
   "metadata": {},
   "outputs": [
    {
     "name": "stdout",
     "output_type": "stream",
     "text": [
      "hello 100\n",
      "2741612389040 140716495519760\n"
     ]
    }
   ],
   "source": [
    "a = ['hello', 100]\n",
    "print(a[0], a[1])\n",
    "print(id(a[0]), id(a[1]))"
   ]
  },
  {
   "cell_type": "code",
   "execution_count": 10,
   "id": "e93b7a36",
   "metadata": {},
   "outputs": [
    {
     "name": "stdout",
     "output_type": "stream",
     "text": [
      "100\n",
      "103\n",
      "100\n"
     ]
    }
   ],
   "source": [
    "def func():\n",
    "    a = 20\n",
    "    \n",
    "a = 100\n",
    "func()\n",
    "print(a)\n",
    "100\n",
    "def func(a):\n",
    "    b = a + 3\n",
    "    print(b)\n",
    "# return이 없는 함수는 None을 return 한다.\n",
    "a = 100\n",
    "func(a)\n",
    "print(a)"
   ]
  },
  {
   "cell_type": "code",
   "execution_count": 11,
   "id": "5b043663",
   "metadata": {},
   "outputs": [
    {
     "name": "stdout",
     "output_type": "stream",
     "text": [
      "100 103\n"
     ]
    }
   ],
   "source": [
    "def func(a):\n",
    "    b = a + 3\n",
    "    return b\n",
    "    \n",
    "a = 100\n",
    "b = func(a)\n",
    "print(a, b)"
   ]
  }
 ],
 "metadata": {
  "kernelspec": {
   "display_name": "Python 3 (ipykernel)",
   "language": "python",
   "name": "python3"
  },
  "language_info": {
   "codemirror_mode": {
    "name": "ipython",
    "version": 3
   },
   "file_extension": ".py",
   "mimetype": "text/x-python",
   "name": "python",
   "nbconvert_exporter": "python",
   "pygments_lexer": "ipython3",
   "version": "3.7.16"
  }
 },
 "nbformat": 4,
 "nbformat_minor": 5
}
