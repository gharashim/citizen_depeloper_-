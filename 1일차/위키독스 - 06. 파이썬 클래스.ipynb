{
 "cells": [
  {
   "cell_type": "markdown",
   "id": "81f0df7c",
   "metadata": {},
   "source": [
    "https://wikidocs.net/41106"
   ]
  },
  {
   "cell_type": "markdown",
   "id": "39c91e5c",
   "metadata": {},
   "source": [
    "연습문제 6-1"
   ]
  },
  {
   "cell_type": "code",
   "execution_count": 3,
   "id": "25ebd1bf",
   "metadata": {},
   "outputs": [
    {
     "name": "stdout",
     "output_type": "stream",
     "text": [
      "응애응애\n"
     ]
    }
   ],
   "source": [
    "class 사람:\n",
    "    def cry(self):\n",
    "        print('응애응애')\n",
    "\n",
    "human = 사람()\n",
    "human.cry()"
   ]
  },
  {
   "cell_type": "code",
   "execution_count": 4,
   "id": "2932c0b3",
   "metadata": {},
   "outputs": [
    {
     "name": "stdout",
     "output_type": "stream",
     "text": [
      "응애응애\n"
     ]
    }
   ],
   "source": [
    "사람().cry()"
   ]
  },
  {
   "cell_type": "markdown",
   "id": "43d86b0a",
   "metadata": {},
   "source": [
    "다음 코드에서 에러가 발생한 이유?"
   ]
  },
  {
   "cell_type": "code",
   "execution_count": 5,
   "id": "8e006e60",
   "metadata": {},
   "outputs": [
    {
     "ename": "TypeError",
     "evalue": "smile() takes 0 positional arguments but 1 was given",
     "output_type": "error",
     "traceback": [
      "\u001b[1;31m---------------------------------------------------------------------------\u001b[0m",
      "\u001b[1;31mTypeError\u001b[0m                                 Traceback (most recent call last)",
      "\u001b[1;32m~\\AppData\\Local\\Temp\\ipykernel_23216\\2086188661.py\u001b[0m in \u001b[0;36m<module>\u001b[1;34m\u001b[0m\n\u001b[0;32m      3\u001b[0m     \u001b[0mprint\u001b[0m\u001b[1;33m(\u001b[0m\u001b[1;34m\"웃자\"\u001b[0m\u001b[1;33m)\u001b[0m\u001b[1;33m\u001b[0m\u001b[1;33m\u001b[0m\u001b[0m\n\u001b[0;32m      4\u001b[0m \u001b[1;33m\u001b[0m\u001b[0m\n\u001b[1;32m----> 5\u001b[1;33m \u001b[0m사람\u001b[0m\u001b[1;33m(\u001b[0m\u001b[1;33m)\u001b[0m\u001b[1;33m.\u001b[0m\u001b[0msmile\u001b[0m\u001b[1;33m(\u001b[0m\u001b[1;33m)\u001b[0m\u001b[1;33m\u001b[0m\u001b[1;33m\u001b[0m\u001b[0m\n\u001b[0m",
      "\u001b[1;31mTypeError\u001b[0m: smile() takes 0 positional arguments but 1 was given"
     ]
    }
   ],
   "source": [
    "class 사람:\n",
    "  def smile():\n",
    "    print(\"웃자\")\n",
    "\n",
    "사람().smile()\n"
   ]
  },
  {
   "cell_type": "markdown",
   "id": "9b00660d",
   "metadata": {},
   "source": [
    "클래스 내 메서드의 첫번째 파라미터는 self 여야 한다.!!"
   ]
  },
  {
   "cell_type": "code",
   "execution_count": 7,
   "id": "0b61c614",
   "metadata": {},
   "outputs": [
    {
     "name": "stdout",
     "output_type": "stream",
     "text": [
      "엉엉엉엉\n",
      "흑흑흑흑\n"
     ]
    }
   ],
   "source": [
    "class 사람:\n",
    "    def cry(self, input_):\n",
    "        print(input_ * 2)\n",
    "\n",
    "human = 사람()\n",
    "human.cry('엉엉')\n",
    "human.cry('흑흑')"
   ]
  },
  {
   "cell_type": "code",
   "execution_count": 8,
   "id": "f83e8d08",
   "metadata": {},
   "outputs": [
    {
     "name": "stdout",
     "output_type": "stream",
     "text": [
      "엉\n",
      "엉\n",
      "엄\n",
      "마\n",
      "아\n",
      "아\n",
      "아\n"
     ]
    }
   ],
   "source": [
    "class 사람:\n",
    "    def cry(self, input_):\n",
    "        [print(input_[i]) for i in range(len(input_))]\n",
    "\n",
    "human = 사람()\n",
    "human.cry('엉엉')\n",
    "human.cry('엄마아아아')"
   ]
  },
  {
   "cell_type": "code",
   "execution_count": 10,
   "id": "e3eb293c",
   "metadata": {},
   "outputs": [
    {
     "name": "stdout",
     "output_type": "stream",
     "text": [
      "김철수에게 010-1234-5678 발신중\n"
     ]
    }
   ],
   "source": [
    "class 사람:\n",
    "    def call(self, name, phone):\n",
    "        print('{}에게 {} 발신중'.format(name, phone))\n",
    "\n",
    "human = 사람()\n",
    "human.call('김철수', '010-1234-5678')"
   ]
  },
  {
   "cell_type": "code",
   "execution_count": 11,
   "id": "a4ed56f4",
   "metadata": {},
   "outputs": [
    {
     "name": "stdout",
     "output_type": "stream",
     "text": [
      "21\n"
     ]
    }
   ],
   "source": [
    "class 사람:\n",
    "    def 구구단(self, a, b):\n",
    "        print(a * b)\n",
    "\n",
    "human = 사람()\n",
    "human.구구단(3, 7)"
   ]
  },
  {
   "cell_type": "code",
   "execution_count": 13,
   "id": "baaf8494",
   "metadata": {},
   "outputs": [
    {
     "name": "stdout",
     "output_type": "stream",
     "text": [
      "유X훈\n",
      "유XX라\n"
     ]
    }
   ],
   "source": [
    "class 사람:\n",
    "    def 개인정보(self, name):\n",
    "        name = name[0] + ('X' * (len(name) - 2)) +name[-1]\n",
    "        print(name)\n",
    "\n",
    "human = 사람()\n",
    "human.개인정보('유종훈')\n",
    "human.개인정보('유빛나라')"
   ]
  }
 ],
 "metadata": {
  "kernelspec": {
   "display_name": "Python 3 (ipykernel)",
   "language": "python",
   "name": "python3"
  },
  "language_info": {
   "codemirror_mode": {
    "name": "ipython",
    "version": 3
   },
   "file_extension": ".py",
   "mimetype": "text/x-python",
   "name": "python",
   "nbconvert_exporter": "python",
   "pygments_lexer": "ipython3",
   "version": "3.7.16"
  }
 },
 "nbformat": 4,
 "nbformat_minor": 5
}
