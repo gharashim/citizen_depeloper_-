{
 "cells": [
  {
   "cell_type": "markdown",
   "id": "56126416",
   "metadata": {},
   "source": [
    "#### 계좌 클래스\n",
    "- 잔고를 관리하는 클래스\n",
    "    - 입금하기\n",
    "    - 출금하기\n",
    "    - 이체하기\n",
    "    - 통장정리"
   ]
  },
  {
   "cell_type": "markdown",
   "id": "624b8d32",
   "metadata": {},
   "source": [
    "입출금 기능"
   ]
  },
  {
   "cell_type": "code",
   "execution_count": 52,
   "id": "b881bc3a",
   "metadata": {
    "scrolled": true
   },
   "outputs": [],
   "source": [
    "class 계좌:\n",
    "    def __init__(self, 이름, 잔고):\n",
    "        self.이름 = 이름\n",
    "        self.잔고 = 잔고\n",
    "        self.history = [['개설', 잔고, 잔고]]\n",
    "    \n",
    "    def 기록하기(self, 변동, 변동액, 잔고) -> None:\n",
    "        self.history.append([변동, 변동액, 잔고])\n",
    "        \n",
    "    def 입금하기(self, 입금액):\n",
    "        self.잔고 += 입금액\n",
    "        self.기록하기('입금', 입금액, self.잔고) # 여기에는 self 가 맨 앞에 없는 이유? -> 함수 선언이 아닌 호출하여 사용하는 것이기 때문!\n",
    "    \n",
    "    def 출금하기(self, 출금액):\n",
    "        self.잔고 -= 출금액\n",
    "        self.기록하기('출금', 출금액, self.잔고)\n",
    "        \n",
    "    def 통장정리(self):\n",
    "        print('-' * 100)\n",
    "        print('통 장 정 리')\n",
    "        print('-' * 100)\n",
    "        print('{} 님 환영합니다'.format(self.이름))\n",
    "        print('잔고 : {} 원'.format(self.history[-1][-1]))\n",
    "        print('-' * 100)\n",
    "        for 기록 in self.history:\n",
    "            print('{}: {} 원    잔고: {}'.format(기록[0], 기록[1], 기록[2]))\n",
    "\n",
    "    def 이체하기(self, 다른계좌, 금액):\n",
    "        self.출금하기(금액)\n",
    "        다른계좌.입금하기(금액)\n",
    "\n",
    "a = 계좌('철수', 1000)\n",
    "a.입금하기(100)\n",
    "a.입금하기(1000000)\n",
    "a.출금하기(300)\n",
    "a.출금하기(500)\n",
    "\n",
    "b = 계좌('영희', 2000)\n",
    "a.이체하기(b, 500)"
   ]
  },
  {
   "cell_type": "code",
   "execution_count": 53,
   "id": "229a2112",
   "metadata": {},
   "outputs": [
    {
     "name": "stdout",
     "output_type": "stream",
     "text": [
      "----------------------------------------------------------------------------------------------------\n",
      "통 장 정 리\n",
      "----------------------------------------------------------------------------------------------------\n",
      "철수 님 환영합니다\n",
      "잔고 : 999800 원\n",
      "----------------------------------------------------------------------------------------------------\n",
      "개설: 1000 원    잔고: 1000\n",
      "입금: 100 원    잔고: 1100\n",
      "입금: 1000000 원    잔고: 1001100\n",
      "출금: 300 원    잔고: 1000800\n",
      "출금: 500 원    잔고: 1000300\n",
      "출금: 500 원    잔고: 999800\n"
     ]
    }
   ],
   "source": [
    "a.통장정리()"
   ]
  },
  {
   "cell_type": "code",
   "execution_count": 48,
   "id": "f55c8e64",
   "metadata": {},
   "outputs": [
    {
     "name": "stdout",
     "output_type": "stream",
     "text": [
      "--------------------------\n",
      "통 장 정 리\n",
      "--------------------------\n",
      "영희 님 환영합니다\n",
      "잔고 : 2500 원\n",
      "--------------------------\n",
      "개설: 2000 원    잔고: 2000\n",
      "입금: 500 원    잔고: 2500\n"
     ]
    }
   ],
   "source": [
    "b.통장정리()"
   ]
  }
 ],
 "metadata": {
  "kernelspec": {
   "display_name": "Python 3 (ipykernel)",
   "language": "python",
   "name": "python3"
  },
  "language_info": {
   "codemirror_mode": {
    "name": "ipython",
    "version": 3
   },
   "file_extension": ".py",
   "mimetype": "text/x-python",
   "name": "python",
   "nbconvert_exporter": "python",
   "pygments_lexer": "ipython3",
   "version": "3.7.16"
  }
 },
 "nbformat": 4,
 "nbformat_minor": 5
}
