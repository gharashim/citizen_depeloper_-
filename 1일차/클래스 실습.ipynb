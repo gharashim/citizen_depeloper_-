{
 "cells": [
  {
   "cell_type": "markdown",
   "id": "0b7c2daf",
   "metadata": {},
   "source": [
    "파이썬에서 self는 객체 지향 프로그래밍(OOP)에서 사용되는 특별한 키워드입니다.\n",
    "\n",
    "self는 현재 인스턴스(instance)를 나타내며, 인스턴스의 속성(attribute)과 메서드(method)를 호출할 때 사용됩니다."
   ]
  },
  {
   "cell_type": "code",
   "execution_count": 1,
   "id": "acf60e06",
   "metadata": {},
   "outputs": [],
   "source": [
    "class 계좌:\n",
    "    pass\n",
    "\n",
    "a = 계좌()\n",
    "a.name = '철수'\n",
    "a.balance = 1000"
   ]
  },
  {
   "cell_type": "code",
   "execution_count": 2,
   "id": "075d920e",
   "metadata": {},
   "outputs": [
    {
     "data": {
      "text/plain": [
       "'철수'"
      ]
     },
     "execution_count": 2,
     "metadata": {},
     "output_type": "execute_result"
    }
   ],
   "source": [
    "a.name"
   ]
  },
  {
   "cell_type": "markdown",
   "id": "8c758a6d",
   "metadata": {},
   "source": [
    "#### 튜플\n",
    "\n",
    "파이썬에서 튜플(tuple)은 불변(immutable)하고 순서가 있는 데이터 타입입니다.\n",
    "\n",
    "리스트와 유사하지만, 한 번 생성된 튜플은 값을 변경할 수 없습니다.\n",
    "\n",
    "\n",
    "튜플은 괄호(())를 사용하여 생성하며, 각 원소는 쉼표(,)로 구분합니다.\n",
    "\n",
    "\n",
    "튜플은 인덱싱과 슬라이싱을 지원합니다. 인덱스는 0부터 시작하며, 음수 인덱스는 뒤에서부터 시작합니다.\n",
    "\n",
    "튜플은 값의 변경이 불가능하기 때문에, 값을 추가, 삭제, 변경하는 메서드가 없습니다.\n",
    "\n",
    "\n",
    "하지만 두 개의 튜플을 합쳐서 새로운 튜플을 만들 수 있습니다.\n",
    "\n",
    "튜플은 변수의 값을 한 번에 할당하는 경우에 유용하게 사용됩니다.\n",
    "\n",
    "튜플은 리스트와 비교하여 작은 용량을 차지하고, 속도가 빠르며, 불변하기 때문에 안정성이 높습니다.\n",
    "\n",
    "하지만 값을 변경할 수 없기 때문에, 값의 변경이 필요한 경우 리스트를 사용하는 것이 좋습니다."
   ]
  },
  {
   "cell_type": "code",
   "execution_count": 3,
   "id": "84fcf825",
   "metadata": {},
   "outputs": [],
   "source": [
    "class 계좌2:\n",
    "    def __init__(self, 이름, 초기입금액) -> None:\n",
    "        self.name = 이름\n",
    "        self.balance = 초기입금액\n",
    "        self.이력 = [('개설', 초기입금액, 초기입금액)] # 튜플\n",
    "        \n",
    "    def 입금하기(self, 입금액):\n",
    "        self.balance += 입금액\n",
    "        self.이력.append(('입금', 입금액, self.balance))\n",
    "\n",
    "    def 출금하기(self, 출금액):\n",
    "        self.balance += 출금액\n",
    "        self.이력.append(('출금', 출금액, self.balance))\n",
    "        \n",
    "    def 통장정리(self) -> None:\n",
    "        print('-' * 100)\n",
    "        print(' 통 장 정 리')\n",
    "        print('-' * 100)\n",
    "        print('안녕하세요')\n",
    "        print(f'{self.name}님의 잔고는 {self.balance:,} 원 입니다.') # self 즉, 현재 인스턴스의 name과 balance property를 가져온다.\n",
    "        print('-' * 100)\n",
    "        for history in self.이력:\n",
    "            print(f'|{history[0]} : {history[1]:>20,} 원 | 잔고 : {history[2]:>20,} 원|')\n",
    "\n",
    "# b = 계좌2('가람', 50000)\n",
    "# b.통장정리()\n",
    "\n",
    "# c = 계좌2('선빈', 500000000)\n",
    "# c.통장정리()"
   ]
  },
  {
   "cell_type": "code",
   "execution_count": 4,
   "id": "badc8b30",
   "metadata": {},
   "outputs": [
    {
     "name": "stdout",
     "output_type": "stream",
     "text": [
      "----------------------------------------------------------------------------------------------------\n",
      " 통 장 정 리\n",
      "----------------------------------------------------------------------------------------------------\n",
      "안녕하세요\n",
      "가람님의 잔고는 190,012,050,000 원 입니다.\n",
      "----------------------------------------------------------------------------------------------------\n",
      "|개설 :               50,000 원 | 잔고 :               50,000 원|\n",
      "|입금 :            1,900,000 원 | 잔고 :            1,950,000 원|\n",
      "|출금 :              500,000 원 | 잔고 :            2,450,000 원|\n",
      "|입금 :      190,000,000,000 원 | 잔고 :      190,002,450,000 원|\n",
      "|입금 :            1,900,000 원 | 잔고 :      190,004,350,000 원|\n",
      "|출금 :              500,000 원 | 잔고 :      190,004,850,000 원|\n",
      "|입금 :            1,900,000 원 | 잔고 :      190,006,750,000 원|\n",
      "|출금 :              500,000 원 | 잔고 :      190,007,250,000 원|\n",
      "|입금 :            1,900,000 원 | 잔고 :      190,009,150,000 원|\n",
      "|출금 :              500,000 원 | 잔고 :      190,009,650,000 원|\n",
      "|입금 :            1,900,000 원 | 잔고 :      190,011,550,000 원|\n",
      "|출금 :              500,000 원 | 잔고 :      190,012,050,000 원|\n"
     ]
    }
   ],
   "source": [
    "b = 계좌2('가람', 50000)\n",
    "b.입금하기(1900000)\n",
    "b.출금하기(500000)\n",
    "b.입금하기(190000000000)\n",
    "b.입금하기(1900000)\n",
    "b.출금하기(500000)\n",
    "b.입금하기(1900000)\n",
    "b.출금하기(500000)\n",
    "b.입금하기(1900000)\n",
    "b.출금하기(500000)\n",
    "b.입금하기(1900000)\n",
    "b.출금하기(500000)\n",
    "b.통장정리()"
   ]
  },
  {
   "cell_type": "markdown",
   "id": "c50a7e01",
   "metadata": {},
   "source": [
    "### 클래스에서 다른 클래스 호출 및 바인딩 가능하다!\n",
    "즉, 클래스 내 속성(property)에 다른 클래스 바인딩 가능"
   ]
  },
  {
   "cell_type": "code",
   "execution_count": 5,
   "id": "db1425b9",
   "metadata": {},
   "outputs": [],
   "source": [
    "class 타이어:\n",
    "    def __init__(self, brand: str):\n",
    "        self.brand = brand\n",
    "        \n",
    "    def func(self):\n",
    "        print('타이어 클래스의 func 메서드!!')\n",
    "    \n",
    "class 자동차:\n",
    "    def __init__(self, price):\n",
    "        self.price = price\n",
    "        self.front = 타이어('한국') # 자동차 클래스의 front 속성에 타이어 클래스를 바인딩\n",
    "        self.rear = 타이어('미국')\n",
    "    \n",
    "    def 사양출력(self):\n",
    "        print(self.price)\n",
    "        print(self.front.brand)\n",
    "        print(self.rear.brand)\n",
    "\n",
    "a = 자동차(10000)"
   ]
  },
  {
   "cell_type": "markdown",
   "id": "75abee51",
   "metadata": {},
   "source": [
    "a 인스턴스의 앞바퀴 출력은?"
   ]
  },
  {
   "cell_type": "code",
   "execution_count": 6,
   "id": "e86b7d74",
   "metadata": {},
   "outputs": [
    {
     "data": {
      "text/plain": [
       "'한국'"
      ]
     },
     "execution_count": 6,
     "metadata": {},
     "output_type": "execute_result"
    }
   ],
   "source": [
    "a.front.brand\n",
    "# a 인스턴스 내 front의 속성 가져온다\n",
    "# front 속성은 타이어('한국') 클래스를 바인딩 한다.\n",
    "# 타이어('한국') 클래스의 brand 속성을 가져온다."
   ]
  },
  {
   "cell_type": "code",
   "execution_count": 7,
   "id": "948af78d",
   "metadata": {},
   "outputs": [
    {
     "name": "stdout",
     "output_type": "stream",
     "text": [
      "10000\n",
      "한국\n",
      "미국\n"
     ]
    }
   ],
   "source": [
    "a.사양출력()"
   ]
  },
  {
   "cell_type": "markdown",
   "id": "effd03ea",
   "metadata": {},
   "source": [
    "호출한 클래스의 속성 가져올 수 있다!!"
   ]
  },
  {
   "cell_type": "markdown",
   "id": "10646005",
   "metadata": {},
   "source": [
    "#### 하나의 클래스 내 속성에 바인딩 된 클래스가 있다면, 그 클래스의 메서드를 호출할 수 있다.\n",
    "- 속성의 호출은 (객체).(호출)\n",
    "- 메서드의 호출은 (객체).(호출)() --> 괄호가 필요"
   ]
  },
  {
   "cell_type": "code",
   "execution_count": 8,
   "id": "44c7083c",
   "metadata": {},
   "outputs": [
    {
     "data": {
      "text/plain": [
       "14"
      ]
     },
     "execution_count": 8,
     "metadata": {},
     "output_type": "execute_result"
    }
   ],
   "source": [
    "a.price.bit_length()"
   ]
  },
  {
   "cell_type": "code",
   "execution_count": 9,
   "id": "d4981fe7",
   "metadata": {},
   "outputs": [
    {
     "name": "stdout",
     "output_type": "stream",
     "text": [
      "타이어 클래스의 func 메서드!!\n"
     ]
    }
   ],
   "source": [
    "a.front.func()"
   ]
  },
  {
   "cell_type": "markdown",
   "id": "2e9ada72",
   "metadata": {},
   "source": [
    "#### class가 출된 횟수를 구하려면?\n",
    "- class 변수 이용"
   ]
  },
  {
   "cell_type": "code",
   "execution_count": 10,
   "id": "828e8aaa",
   "metadata": {},
   "outputs": [],
   "source": [
    "class 계좌:\n",
    "    count = 0 # class 변수 : 각 개체들이 공유\n",
    "    def __init__(self):\n",
    "        계좌.count += 1 # '계좌'라는 class 내의 count라는 변수를 호출"
   ]
  },
  {
   "cell_type": "code",
   "execution_count": 11,
   "id": "c2a67db5",
   "metadata": {},
   "outputs": [],
   "source": [
    "a = 계좌()\n",
    "b = 계좌()"
   ]
  },
  {
   "cell_type": "code",
   "execution_count": 12,
   "id": "0a36513d",
   "metadata": {},
   "outputs": [
    {
     "name": "stdout",
     "output_type": "stream",
     "text": [
      "2\n"
     ]
    }
   ],
   "source": [
    "print(계좌.count) # 계좌 class는 2번 호출 되었음"
   ]
  },
  {
   "cell_type": "code",
   "execution_count": 13,
   "id": "3a25fc30",
   "metadata": {},
   "outputs": [
    {
     "name": "stdout",
     "output_type": "stream",
     "text": [
      "2\n",
      "2\n"
     ]
    }
   ],
   "source": [
    "print(a.count)\n",
    "print(b.count) # 클래스 변수(계좌.count)는 각 인스턴스들도 공유한다."
   ]
  },
  {
   "cell_type": "code",
   "execution_count": 14,
   "id": "dea16c4f",
   "metadata": {},
   "outputs": [
    {
     "name": "stdout",
     "output_type": "stream",
     "text": [
      "3\n",
      "3\n",
      "3\n"
     ]
    }
   ],
   "source": [
    "c = 계좌()\n",
    "print(a.count)\n",
    "print(b.count)\n",
    "print(c.count) # 클래스 변수가 변화가 생기면 모든 인스턴스들에게도 반영된다."
   ]
  },
  {
   "cell_type": "code",
   "execution_count": 16,
   "id": "2576b1b3",
   "metadata": {},
   "outputs": [
    {
     "name": "stdout",
     "output_type": "stream",
     "text": [
      "50\n",
      "50\n",
      "50\n"
     ]
    }
   ],
   "source": [
    "ccc = 계좌\n",
    "ccc.count = 50 # 클래스 공간을 ccc에 binding 후 직접 제어 가능하다.\n",
    "\n",
    "print(a.count)\n",
    "print(b.count)\n",
    "print(c.count)"
   ]
  }
 ],
 "metadata": {
  "kernelspec": {
   "display_name": "Python 3 (ipykernel)",
   "language": "python",
   "name": "python3"
  },
  "language_info": {
   "codemirror_mode": {
    "name": "ipython",
    "version": 3
   },
   "file_extension": ".py",
   "mimetype": "text/x-python",
   "name": "python",
   "nbconvert_exporter": "python",
   "pygments_lexer": "ipython3",
   "version": "3.7.16"
  }
 },
 "nbformat": 4,
 "nbformat_minor": 5
}
