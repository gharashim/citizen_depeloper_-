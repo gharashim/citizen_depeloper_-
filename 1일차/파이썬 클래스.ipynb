{
 "cells": [
  {
   "cell_type": "markdown",
   "id": "ba8a2ff8",
   "metadata": {},
   "source": [
    "### 클래스"
   ]
  },
  {
   "cell_type": "code",
   "execution_count": 20,
   "id": "991db532",
   "metadata": {},
   "outputs": [],
   "source": [
    "# 클래스\n",
    "class 붕어빵틀: # 붕어빵틀이라는 class 생성\n",
    "    pass\n",
    "\n",
    "내빵 = 붕어빵틀() # '내빵' 이라는 변수에 붕어빵틀 클래스를 바인딩\n",
    "너빵 = 붕어빵틀() # '너빵' 이라는 변수에 붕어빵틀 클래스를 바인딩\n",
    "#- 1개의 클래스를 여러개 변수에 바인딩 가능 : 마치 붕어빵틀과 붕어빵과 같다.\n",
    "\n",
    "내빵.앙꼬 = '딸기맛' # 내빵 인스턴스에 '앙꼬'라는 속성(property) 부여하고 '딸기맛'이라는 값을 지정\n",
    "너빵.앙꼬 = '초코맛' # 너빵 인스턴스에 '앙꼬'라는 속성(property) 부여하고 '초코맛'이라는 값을 지정"
   ]
  },
  {
   "cell_type": "code",
   "execution_count": 21,
   "id": "728bc672",
   "metadata": {},
   "outputs": [
    {
     "data": {
      "text/plain": [
       "'딸기맛'"
      ]
     },
     "execution_count": 21,
     "metadata": {},
     "output_type": "execute_result"
    }
   ],
   "source": [
    "내빵.앙꼬"
   ]
  },
  {
   "cell_type": "markdown",
   "id": "839e9b99",
   "metadata": {},
   "source": [
    "### 연습문제 1"
   ]
  },
  {
   "cell_type": "code",
   "execution_count": 25,
   "id": "9f9af7fc",
   "metadata": {},
   "outputs": [
    {
     "name": "stdout",
     "output_type": "stream",
     "text": [
      "SM5 SM6\n"
     ]
    }
   ],
   "source": [
    "class 삼성차:\n",
    "    pass\n",
    "\n",
    "삼성차1 = 삼성차()\n",
    "삼성차2 = 삼성차()\n",
    "\n",
    "삼성차1.차종 = 'SM5'\n",
    "삼성차2.차종 = 'SM6'\n",
    "\n",
    "print(삼성차1.차종, 삼성차2.차종)"
   ]
  },
  {
   "cell_type": "code",
   "execution_count": 27,
   "id": "18ab5870",
   "metadata": {},
   "outputs": [
    {
     "name": "stdout",
     "output_type": "stream",
     "text": [
      "<__main__.삼성차 object at 0x000002295D739AC8>\n",
      "<class '__main__.삼성차'>\n",
      "2376684772040\n"
     ]
    }
   ],
   "source": [
    "print(삼성차1)\n",
    "print(type(삼성차1))\n",
    "print(id(삼성차1)) # 삼성차1 과 삼성차의 메모리 주소는 다르다. 즉, 정의된 클래스와 인스턴스의 메모리 주소는 다르다!!!"
   ]
  },
  {
   "cell_type": "markdown",
   "id": "394582f7",
   "metadata": {},
   "source": [
    "코드를 정리합니다.\n",
    "- '생산' 메서드를 만들자\n",
    "- 메서드를 호출하면 차종 속성 생성\n",
    "- 추가로 입력한 데이터를 속성에 바인딩"
   ]
  },
  {
   "cell_type": "code",
   "execution_count": 6,
   "id": "67086334",
   "metadata": {},
   "outputs": [
    {
     "name": "stdout",
     "output_type": "stream",
     "text": [
      "SM5\n",
      "SM6\n"
     ]
    }
   ],
   "source": [
    "class 삼성차:\n",
    "    def 생산(어떤차, 차종):\n",
    "        어떤차.차종 = 차종\n",
    "        \n",
    "a = 삼성차()\n",
    "b = 삼성차()\n",
    "\n",
    "삼성차.생산(a, 'SM5')\n",
    "삼성차.생산(b, 'SM6')\n",
    "\n",
    "print(a.차종)\n",
    "print(b.차종)"
   ]
  },
  {
   "cell_type": "markdown",
   "id": "eb6efd93",
   "metadata": {},
   "source": [
    "### 연습문제 2"
   ]
  },
  {
   "cell_type": "code",
   "execution_count": 29,
   "id": "2d9b98d7",
   "metadata": {},
   "outputs": [
    {
     "name": "stdout",
     "output_type": "stream",
     "text": [
      "1500\n"
     ]
    }
   ],
   "source": [
    "class 계좌:\n",
    "    pass\n",
    "\n",
    "계좌1 = 계좌()\n",
    "계좌2 = 계좌()\n",
    "\n",
    "계좌1.이름 = '김철수'\n",
    "계좌1.잔고 = 500\n",
    "\n",
    "계좌2.이름 = '김영희'\n",
    "계좌2.잔고 = 1000\n",
    "\n",
    "\n",
    "print(계좌1.잔고 + 계좌2.잔고)"
   ]
  },
  {
   "cell_type": "markdown",
   "id": "2fec3aba",
   "metadata": {},
   "source": [
    "### 클래스와 메서드"
   ]
  },
  {
   "cell_type": "code",
   "execution_count": 7,
   "id": "107e8f6a",
   "metadata": {},
   "outputs": [
    {
     "name": "stdout",
     "output_type": "stream",
     "text": [
      "딸기맛\n"
     ]
    }
   ],
   "source": [
    "class 붕어빵:\n",
    "    def 앙꼬넣기(어떤빵, 앙꼬):\n",
    "        어떤빵.앙꼬 = 앙꼬 # 어떤빵 객체에 앙꼬라는 속성을 부여\n",
    "        \n",
    "내빵 = 붕어빵() # 내빵 변수에 붕어빵 클래스를 바인딩\n",
    "붕어빵.앙꼬넣기(내빵, '딸기맛') # 붕어빵 클래스의 앙꼬넣기 메서드 호출, 내빵 인스턴스에 앙꼬넣기 메서드를 통해 '딸기맛' 앙꼬 속성 부여\n",
    "\n",
    "print(내빵.앙꼬) # 내빵 인스턴스의 앙꼬 속성을 출력"
   ]
  },
  {
   "cell_type": "markdown",
   "id": "ceac0121",
   "metadata": {},
   "source": [
    "### 연습문제"
   ]
  },
  {
   "cell_type": "code",
   "execution_count": 31,
   "id": "b2374083",
   "metadata": {},
   "outputs": [
    {
     "name": "stdout",
     "output_type": "stream",
     "text": [
      "김가람님의 잔고는 10000000000원 입니다!\n",
      "임선빈님의 잔고는 9999999999999원 입니다!\n"
     ]
    }
   ],
   "source": [
    "class 계좌:\n",
    "    def 개설(누구계좌, name, balance):\n",
    "        누구계좌.이름 = name # 누구계좌 객체에 이름 속성 부여\n",
    "        누구계좌.잔고 = balance # 누구계좌 객체에 이름 속성 부여\n",
    "    \n",
    "    def 출력(누구계좌):\n",
    "        # 어떤 계좌의 이름과 잔고 출력\n",
    "#         print(누구계좌.이름, 누구계좌.잔고) # 클래스 공간 내에서 메서드 間 객체의 속성은 공유된다!!\n",
    "        print('{}님의 잔고는 {}원 입니다!'.format(누구계좌.이름, 누구계좌.잔고))\n",
    "\n",
    "# 여기서 계좌 클래스 및 메서드가 메모리에 load 된다.\n",
    "\n",
    "a = 계좌() # a 변수에 계좌 클래스를 바인딩\n",
    "계좌.개설(a, '김가람', 10000000000) # 계좌 클래스의 개설 메서드를 이용해 a 인스턴스에 '김가람'(이름) 및 100000000(잔고) 속성 부여\n",
    "계좌.출력(a) # 계좌 클래스의 출력 메서드로 a 인스턴스의 속성을 출력\n",
    "# print(a.이름)\n",
    "# print(a.잔고)\n",
    "\n",
    "b = 계좌()\n",
    "계좌.개설(b, '임선빈', 9999999999999)\n",
    "계좌.출력(b)\n",
    "\n",
    "# print(f'{a.이름}님의 잔고는 {a.잔고} 입니다.') # f string으로 출력 formatting 가능"
   ]
  },
  {
   "cell_type": "code",
   "execution_count": 33,
   "id": "0806849b",
   "metadata": {},
   "outputs": [
    {
     "name": "stdout",
     "output_type": "stream",
     "text": [
      "엘론머스크님의 잔고는 9999999999999999999999999999999원 입니다!\n"
     ]
    }
   ],
   "source": [
    "c = 계좌()\n",
    "c.개설('엘론머스크', 9999999999999999999999999999999)\n",
    "c.출력() # 객체.메서드(속성1, 속성2, ...) 호출 방식은 self 자리에 값 전달할 필요가 없다."
   ]
  },
  {
   "cell_type": "markdown",
   "id": "06396ede",
   "metadata": {},
   "source": [
    "### 클래스 생성자"
   ]
  },
  {
   "cell_type": "code",
   "execution_count": 34,
   "id": "4a006e8d",
   "metadata": {},
   "outputs": [
    {
     "data": {
      "text/plain": [
       "'빨간맛'"
      ]
     },
     "execution_count": 34,
     "metadata": {},
     "output_type": "execute_result"
    }
   ],
   "source": [
    "class 붕어빵틀:\n",
    "    def 앙꼬넣기(self, 앙꼬):\n",
    "        self.앙꼬 = 앙꼬\n",
    "\n",
    "내빵 = 붕어빵틀()\n",
    "내빵.앙꼬넣기('빨간맛')\n",
    "내빵.앙꼬"
   ]
  },
  {
   "cell_type": "markdown",
   "id": "083aa40d",
   "metadata": {},
   "source": [
    "객체를 생성하면 자동으로 생성자가 호출됨\n",
    "- 사용자가 호출하는 것 아님\n",
    "- 파이썬 인터프리터가 객체를 생성한 후에 호출\n",
    "- 생성자 함수에는 return 값이 올 수 없다!!!!"
   ]
  },
  {
   "cell_type": "code",
   "execution_count": 36,
   "id": "143494ff",
   "metadata": {},
   "outputs": [
    {
     "name": "stdout",
     "output_type": "stream",
     "text": [
      "붕어빵 잘 구워짐\n"
     ]
    }
   ],
   "source": [
    "class 붕어빵틀:\n",
    "    def __init__(self):\n",
    "        print('붕어빵 잘 구워짐')\n",
    "        ## 생성자 함수에는 return 값이 올 수 없다.\n",
    "\n",
    "내빵 = 붕어빵틀() # '붕어빵 잘 구워짐'이라는 문장이 자동으로 출력 된다. __init__이라는 생성자 자동 호출되기 때문"
   ]
  },
  {
   "cell_type": "code",
   "execution_count": 39,
   "id": "d94ff9d1",
   "metadata": {},
   "outputs": [
    {
     "data": {
      "text/plain": [
       "'빨간맛'"
      ]
     },
     "execution_count": 39,
     "metadata": {},
     "output_type": "execute_result"
    }
   ],
   "source": [
    "class 붕어빵틀:\n",
    "    def __init__(self, 앙꼬):\n",
    "        self.앙꼬 = 앙꼬\n",
    "\n",
    "# 내빵 = 붕어빵틀() 에러 발생. 앙꼬 속성을 클래스 호출하면서 함께 입력해야 한다.\n",
    "내빵 = 붕어빵틀('빨간맛')\n",
    "내빵.앙꼬"
   ]
  },
  {
   "cell_type": "markdown",
   "id": "0b80431c",
   "metadata": {},
   "source": [
    "### 연습문제 1"
   ]
  },
  {
   "cell_type": "code",
   "execution_count": 50,
   "id": "4b70619c",
   "metadata": {},
   "outputs": [
    {
     "name": "stdout",
     "output_type": "stream",
     "text": [
      "1992년 08월 27일\n",
      "(남) 김가람\n"
     ]
    }
   ],
   "source": [
    "class 사람:\n",
    "    def __init__(self, name, birth, sex):\n",
    "        self.이름 = name\n",
    "        self.생일 = birth\n",
    "        self.성별 = sex\n",
    "\n",
    "    def 정보출력(self):\n",
    "        self.생일 = str(self.생일)\n",
    "        print('{}년 {}월 {}일'\\\n",
    "              .format(self.생일[0:4], self.생일[4:6], self.생일[6:]))\n",
    "        print(f'({self.성별}) {self.이름}')\n",
    "\n",
    "첫째 = 사람('김가람', 19920827, '남')\n",
    "첫째.정보출력()"
   ]
  },
  {
   "cell_type": "markdown",
   "id": "201e73d8",
   "metadata": {},
   "source": [
    "### 연습문제 2"
   ]
  },
  {
   "cell_type": "code",
   "execution_count": 46,
   "id": "353f3fbc",
   "metadata": {},
   "outputs": [
    {
     "name": "stdout",
     "output_type": "stream",
     "text": [
      "보잉787 이륙합니다\n",
      "에어버스A330 이륙합니다\n"
     ]
    }
   ],
   "source": [
    "class 비행기:\n",
    "    def __init__(self, 기종):\n",
    "        self.기종 = 기종\n",
    "    \n",
    "    def 이륙(self):\n",
    "        print(f'{self.기종} 이륙합니다')\n",
    "\n",
    "비행기_1 = 비행기('보잉787')\n",
    "비행기_2 = 비행기('에어버스A330')\n",
    "비행기_1.이륙()\n",
    "비행기_2.이륙()"
   ]
  },
  {
   "cell_type": "markdown",
   "id": "280e246c",
   "metadata": {},
   "source": [
    "### 연습문제 3"
   ]
  },
  {
   "cell_type": "code",
   "execution_count": 48,
   "id": "4361ad64",
   "metadata": {},
   "outputs": [
    {
     "name": "stdout",
     "output_type": "stream",
     "text": [
      "김가람님의 잔고는 99999999999999달러 입니다.\n"
     ]
    }
   ],
   "source": [
    "class 계좌:\n",
    "    def __init__(self, 이름, 잔고):\n",
    "        self.이름 = 이름\n",
    "        self.잔고 = 잔고\n",
    "    \n",
    "    def 출력(self):\n",
    "        print(f'{self.이름}님의 잔고는 {self.잔고}달러 입니다.')\n",
    "\n",
    "계좌('김가람', 99999999999999).출력()"
   ]
  },
  {
   "cell_type": "markdown",
   "id": "2bec3211",
   "metadata": {},
   "source": [
    "### 기타 특수 메서드"
   ]
  },
  {
   "cell_type": "code",
   "execution_count": 56,
   "id": "140d1e48",
   "metadata": {},
   "outputs": [
    {
     "name": "stdout",
     "output_type": "stream",
     "text": [
      "김가람\n"
     ]
    }
   ],
   "source": [
    "class 사람:\n",
    "    def __init__(self, name, birth, sex):\n",
    "        self.이름 = name\n",
    "        self.생일 = birth\n",
    "        self.성별 = sex\n",
    "\n",
    "    def 정보출력(self): # 메서드가 적용 될 객체를 self로 가리킨다.\n",
    "        self.생일 = str(self.생일)\n",
    "        print('{}년 {}월 {}일'\\\n",
    "              .format(self.생일[0:4], self.생일[4:6], self.생일[6:]))\n",
    "        print(f'({self.성별}) {self.이름}')\n",
    "    \n",
    "    def __str__(self):\n",
    "        ## __str__ 메서드는 print 메서드에 클래스 호출 시 출력되는 값을 설정\n",
    "        return self.이름\n",
    "\n",
    "첫째 = 사람('김가람', 19920827, '남')\n",
    "# 첫째.정보출력()\n",
    "print(첫째)"
   ]
  },
  {
   "cell_type": "markdown",
   "id": "6b63699c",
   "metadata": {},
   "source": [
    "###  상속"
   ]
  },
  {
   "cell_type": "code",
   "execution_count": 75,
   "id": "e3c947ba",
   "metadata": {},
   "outputs": [
    {
     "name": "stdout",
     "output_type": "stream",
     "text": [
      "A\n",
      "A\n",
      "20\n"
     ]
    }
   ],
   "source": [
    "class 부모:\n",
    "    def __init__(self):\n",
    "        self.혈액형 = 'A'\n",
    "        self.나이 = 50\n",
    "\n",
    "class 자식1(부모):\n",
    "    def __init__(self):\n",
    "        super().__init__() # 여기서 super()는 상속한 부모 클래스이다.\n",
    "        self.나이 = 30\n",
    "\n",
    "class 자식2(부모):\n",
    "    def __init__(self):\n",
    "        부모.__init__(self) # 자식2 클래스의 __init__ 메서드에서 부모의 __init__ 메서드 실행\n",
    "        self.나이 = 20\n",
    "        \n",
    "a = 자식1()\n",
    "print(a.혈액형)\n",
    "\n",
    "b = 자식2()\n",
    "print(b.혈액형) # 자식 클래스에 지정된 속성 없음.\n",
    "print(b.나이) # 고유 속성의 것을 가져옴"
   ]
  },
  {
   "cell_type": "markdown",
   "id": "42766bcf",
   "metadata": {},
   "source": [
    "Python에서 super()는 부모 클래스의 메서드를 호출하는 데 사용되는 내장 함수입니다. super() 함수는 현재 클래스와 그 클래스가 상속받은 부모 클래스 간의 관계를 이용하여, 부모 클래스의 메서드를 호출할 수 있도록 지원합니다.\n",
    "\n",
    "super() 함수를 사용하여 부모 클래스의 메서드를 호출하는 이유는, 부모 클래스의 메서드를 다시 구현(override)하더라도, 부모 클래스의 메서드를 여전히 호출할 수 있기 때문입니다. 이를 통해 코드의 재사용성을 높일 수 있습니다.\n",
    "\n",
    "super() 함수를 사용하는 일반적인 방법은 다음과 같습니다."
   ]
  },
  {
   "cell_type": "code",
   "execution_count": 3,
   "id": "0dd29a2b",
   "metadata": {},
   "outputs": [],
   "source": [
    "class Parent:\n",
    "    def some_method(arg1, arg2):\n",
    "        pass\n",
    "\n",
    "class Child(Parent):\n",
    "    def some_method(self, arg1, arg2):\n",
    "        super().some_method(arg1, arg2)\n",
    "        # 자식 클래스에서 수행할 추가 작업들..."
   ]
  },
  {
   "cell_type": "markdown",
   "id": "f31b7503",
   "metadata": {},
   "source": [
    "위의 예제에서 Child 클래스는 Parent 클래스를 상속받고 있습니다. Child 클래스의 some_method() 메서드에서 super().some_method() 코드는 Parent 클래스의 some_method() 메서드를 호출합니다. 이후 자식 클래스에서 필요한 추가 작업을 수행할 수 있습니다.\n",
    "\n",
    "super() 함수는 또한 다중 상속(multiple inheritance)에서 사용될 때 특히 유용합니다. 다중 상속에서는 부모 클래스가 둘 이상이므로, super() 함수를 사용하지 않으면 메서드 호출의 우선순위가 모호해질 수 있습니다. super() 함수를 사용하여 상속 관계를 명시함으로써 이러한 문제를 해결할 수 있습니다."
   ]
  }
 ],
 "metadata": {
  "kernelspec": {
   "display_name": "Python 3 (ipykernel)",
   "language": "python",
   "name": "python3"
  },
  "language_info": {
   "codemirror_mode": {
    "name": "ipython",
    "version": 3
   },
   "file_extension": ".py",
   "mimetype": "text/x-python",
   "name": "python",
   "nbconvert_exporter": "python",
   "pygments_lexer": "ipython3",
   "version": "3.7.16"
  }
 },
 "nbformat": 4,
 "nbformat_minor": 5
}
