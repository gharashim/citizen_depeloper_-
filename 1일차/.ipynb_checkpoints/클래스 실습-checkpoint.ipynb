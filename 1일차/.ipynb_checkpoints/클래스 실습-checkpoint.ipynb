{
 "cells": [
  {
   "cell_type": "markdown",
   "id": "3dcdd4d7",
   "metadata": {},
   "source": [
    "파이썬에서 self는 객체 지향 프로그래밍(OOP)에서 사용되는 특별한 키워드입니다.\n",
    "\n",
    "self는 현재 인스턴스(instance)를 나타내며, 인스턴스의 속성(attribute)과 메서드(method)를 호출할 때 사용됩니다."
   ]
  },
  {
   "cell_type": "code",
   "execution_count": 2,
   "id": "9478a7c0",
   "metadata": {},
   "outputs": [],
   "source": [
    "class 계좌:\n",
    "    pass\n",
    "\n",
    "a = 계좌()\n",
    "a.name = '철수'\n",
    "a.balance = 1000"
   ]
  },
  {
   "cell_type": "code",
   "execution_count": 3,
   "id": "7f7ca20a",
   "metadata": {},
   "outputs": [
    {
     "data": {
      "text/plain": [
       "'철수'"
      ]
     },
     "execution_count": 3,
     "metadata": {},
     "output_type": "execute_result"
    }
   ],
   "source": [
    "a.name"
   ]
  },
  {
   "cell_type": "code",
   "execution_count": 29,
   "id": "0e2b7b11",
   "metadata": {},
   "outputs": [],
   "source": [
    "class 계좌2:\n",
    "    def __init__(self, 이름, 초기입금액) -> None:\n",
    "        self.name = 이름\n",
    "        self.balance = 초기입금액\n",
    "        self.이력 = [['개설', 초기입금액, 초기입금액]]\n",
    "        \n",
    "    def 입금하기(self, 입금액):\n",
    "        self.balance += 입금액\n",
    "        self.이력.append(['입금', 입금액, self.balance])\n",
    "\n",
    "    def 출금하기(self, 출금액):\n",
    "        self.balance += 출금액\n",
    "        self.이력.append(['출금', 출금액, self.balance])\n",
    "        \n",
    "    def 통장정리(self) -> None:\n",
    "        print('-' * 100)\n",
    "        print(f'{self.name}님의 잔고는 {self.balance}원 입니다.') # self 즉, 현재 인스턴스의 name과 balance property를 가져온다.\n",
    "        for history in self.이력:\n",
    "            print(history)\n",
    "\n",
    "# b = 계좌2('가람', 50000)\n",
    "# b.통장정리()\n",
    "\n",
    "# c = 계좌2('선빈', 500000000)\n",
    "# c.통장정리()"
   ]
  },
  {
   "cell_type": "code",
   "execution_count": 30,
   "id": "fa2aa787",
   "metadata": {},
   "outputs": [
    {
     "name": "stdout",
     "output_type": "stream",
     "text": [
      "----------------------------------------------------------------------------------------------------\n",
      "가람님의 잔고는 2450000원 입니다.\n",
      "['개설', 50000, 50000]\n",
      "['입금', 1900000, 1950000]\n",
      "['출금', 500000, 2450000]\n"
     ]
    }
   ],
   "source": [
    "b = 계좌2('가람', 50000)\n",
    "b.입금하기(1900000)\n",
    "b.출금하기(500000)\n",
    "b.통장정리()"
   ]
  },
  {
   "cell_type": "markdown",
   "id": "4979a651",
   "metadata": {},
   "source": [
    "### 클래스에서 다른 클래스 호출 및 바인딩 가능하다!\n",
    "즉, 클래스 내 속성(property)에 다른 클래스 바인딩 가능"
   ]
  },
  {
   "cell_type": "code",
   "execution_count": 36,
   "id": "429a9c3c",
   "metadata": {},
   "outputs": [],
   "source": [
    "class 타이어:\n",
    "    def __init__(self, brand: str):\n",
    "        self.brand = brand\n",
    "        \n",
    "    def func(self):\n",
    "        print('타이어 클래스의 func 메서드!!')\n",
    "    \n",
    "class 자동차:\n",
    "    def __init__(self, price):\n",
    "        self.price = price\n",
    "        self.front = 타이어('한국') # 자동차 클래스의 front 속성에 타이어 클래스를 바인딩\n",
    "        self.rear = 타이어('미국')\n",
    "\n",
    "a = 자동차(10000)"
   ]
  },
  {
   "cell_type": "markdown",
   "id": "21d01bdf",
   "metadata": {},
   "source": [
    "a 인스턴스의 앞바퀴 출력은?"
   ]
  },
  {
   "cell_type": "code",
   "execution_count": 35,
   "id": "652a215b",
   "metadata": {},
   "outputs": [
    {
     "data": {
      "text/plain": [
       "'한국'"
      ]
     },
     "execution_count": 35,
     "metadata": {},
     "output_type": "execute_result"
    }
   ],
   "source": [
    "a.front.brand\n",
    "# a 인스턴스 내 front의 속성 가져온다\n",
    "# front 속성은 타이어('한국') 클래스를 바인딩 한다.\n",
    "# 타이어('한국') 클래스의 brand 속성을 가져온다."
   ]
  },
  {
   "cell_type": "markdown",
   "id": "5247d848",
   "metadata": {},
   "source": [
    "호출한 클래스의 속성 가져올 수 있다!!"
   ]
  },
  {
   "cell_type": "markdown",
   "id": "50c431b7",
   "metadata": {},
   "source": [
    "#### 하나의 클래스 내 속성에 바인딩 된 클래스가 있다면, 그 클래스의 메서드를 호출할 수 있다.\n",
    "- 속성의 호출은 (객체).(호출)\n",
    "- 메서드의 호출은 (객체).(호출)() --> 괄호가 필요"
   ]
  },
  {
   "cell_type": "code",
   "execution_count": 40,
   "id": "e4da4262",
   "metadata": {},
   "outputs": [
    {
     "data": {
      "text/plain": [
       "14"
      ]
     },
     "execution_count": 40,
     "metadata": {},
     "output_type": "execute_result"
    }
   ],
   "source": [
    "a.price.bit_length()"
   ]
  },
  {
   "cell_type": "code",
   "execution_count": 38,
   "id": "66af7050",
   "metadata": {},
   "outputs": [
    {
     "name": "stdout",
     "output_type": "stream",
     "text": [
      "타이어 클래스의 func 메서드!!\n"
     ]
    }
   ],
   "source": [
    "a.front.func()"
   ]
  }
 ],
 "metadata": {
  "kernelspec": {
   "display_name": "Python 3 (ipykernel)",
   "language": "python",
   "name": "python3"
  },
  "language_info": {
   "codemirror_mode": {
    "name": "ipython",
    "version": 3
   },
   "file_extension": ".py",
   "mimetype": "text/x-python",
   "name": "python",
   "nbconvert_exporter": "python",
   "pygments_lexer": "ipython3",
   "version": "3.7.16"
  }
 },
 "nbformat": 4,
 "nbformat_minor": 5
}
