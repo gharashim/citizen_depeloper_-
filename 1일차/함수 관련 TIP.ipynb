{
 "cells": [
  {
   "cell_type": "code",
   "execution_count": 1,
   "id": "c8d65566",
   "metadata": {},
   "outputs": [
    {
     "name": "stdout",
     "output_type": "stream",
     "text": [
      "어피치과 라이언의 결혼을 축하합니다.\n"
     ]
    }
   ],
   "source": [
    "def 청첩장(신랑, 신부):\n",
    "    print(f'{신랑}과 {신부}의 결혼을 축하합니다.')\n",
    "    \n",
    "청첩장('어피치', '라이언')"
   ]
  },
  {
   "cell_type": "code",
   "execution_count": 3,
   "id": "8be81688",
   "metadata": {},
   "outputs": [
    {
     "name": "stdout",
     "output_type": "stream",
     "text": [
      "어피치과 라이언의 결혼을 축하합니다.\n",
      "어피치과 영희의 결혼을 축하합니다.\n"
     ]
    }
   ],
   "source": [
    "def 청첩장(신랑, 신부 = '라이언'): # 신부 변수가 입력되지 않으면 default로 '라이언' 입력\n",
    "    print(f'{신랑}과 {신부}의 결혼을 축하합니다.')\n",
    "    \n",
    "청첩장('어피치') # 신부 변수에 '라이언' default로 입력\n",
    "청첩장('어피치', '영희') # 영희가 신부 변수에 우선 할당 됨"
   ]
  },
  {
   "cell_type": "code",
   "execution_count": 4,
   "id": "9231dca6",
   "metadata": {},
   "outputs": [
    {
     "ename": "SyntaxError",
     "evalue": "non-default argument follows default argument (618005255.py, line 1)",
     "output_type": "error",
     "traceback": [
      "\u001b[1;36m  File \u001b[1;32m\"C:\\Users\\rkfka\\AppData\\Local\\Temp\\ipykernel_20940\\618005255.py\"\u001b[1;36m, line \u001b[1;32m1\u001b[0m\n\u001b[1;33m    def 청첩장(신랑 ='어피치', 신부): # default 입력은 오른쪽 값부터 할당할 수 있음 > 건너뛰면 에러 발생\u001b[0m\n\u001b[1;37m                 ^\u001b[0m\n\u001b[1;31mSyntaxError\u001b[0m\u001b[1;31m:\u001b[0m non-default argument follows default argument\n"
     ]
    }
   ],
   "source": [
    "def 청첩장(신랑 ='어피치', 신부): # default 입력은 오른쪽 값부터 할당할 수 있음 > 건너뛰면 에러 발생\n",
    "    print(f'{신랑}과 {신부}의 결혼을 축하합니다.')"
   ]
  },
  {
   "cell_type": "code",
   "execution_count": 6,
   "id": "14ec325c",
   "metadata": {},
   "outputs": [
    {
     "name": "stdout",
     "output_type": "stream",
     "text": [
      "어피치과 라이언의 결혼을 축하합니다.\n"
     ]
    }
   ],
   "source": [
    "def 청첩장(신랑, 신부): # 신부 변수가 입력되지 않으면 default로 '라이언' 입력\n",
    "    print(f'{신랑}과 {신부}의 결혼을 축하합니다.')\n",
    "\n",
    "청첩장(신부 = '라이언', 신랑 = '어피치') # 바꿔서 입력 가능"
   ]
  },
  {
   "cell_type": "code",
   "execution_count": 8,
   "id": "53e69171",
   "metadata": {},
   "outputs": [],
   "source": [
    "def 청첩장(신랑: str, 신부: str): # 변수의 자료형 지정 가능 / 단, 강제성은 없음. 설명할 주석 생략 가능 정도?\n",
    "    print(f'{신랑}과 {신부}의 결혼을 축하합니다.')"
   ]
  },
  {
   "cell_type": "code",
   "execution_count": 12,
   "id": "e229e5ad",
   "metadata": {},
   "outputs": [
    {
     "name": "stdout",
     "output_type": "stream",
     "text": [
      "<class 'str'>\n"
     ]
    }
   ],
   "source": [
    "def 청첩장(신랑: str, 신부: str) -> None:\n",
    "    print(f'{신랑}과 {신부}의 결혼을 축하합니다.')\n",
    "\n",
    "\n",
    "'''\n",
    "Python에서 함수에서 -> 연산자는 함수가 반환하는 값의 자료형(type)을 명시하는 데 사용됩니다.\n",
    "함수 정의에서 -> 연산자를 사용하여 반환값의 자료형을 지정할 수 있습니다.\n",
    "\n",
    "** 그러나 강제성은 없음\n",
    "\n",
    "-> 연산자를 사용하여 반환값의 자료형을 명시하는 것은 선택 사항이며, 생략할 수도 있습니다.\n",
    "이 경우 함수가 반환하는 값의 자료형은 Python 인터프리터가 자동으로 추론하게 됩니다.\n",
    "하지만 반환값이 명시되어 있으면, 코드의 가독성과 유지보수성이 향상될 수 있습니다.\n",
    "\n",
    "참고로, -> 연산자는 Python 3.5부터 추가된 기능입니다.\n",
    "이전 버전의 Python에서는 함수의 반환값을 명시하는 방법이 없었습니다.\n",
    "\n",
    "'''\n",
    "def test(a: int, b: int = 10) -> int:\n",
    "    return str(a + b)\n",
    "\n",
    "a = test(3, 4)\n",
    "print(type(a))"
   ]
  }
 ],
 "metadata": {
  "kernelspec": {
   "display_name": "Python 3 (ipykernel)",
   "language": "python",
   "name": "python3"
  },
  "language_info": {
   "codemirror_mode": {
    "name": "ipython",
    "version": 3
   },
   "file_extension": ".py",
   "mimetype": "text/x-python",
   "name": "python",
   "nbconvert_exporter": "python",
   "pygments_lexer": "ipython3",
   "version": "3.7.16"
  }
 },
 "nbformat": 4,
 "nbformat_minor": 5
}
