{
 "cells": [
  {
   "cell_type": "markdown",
   "id": "0c80c427",
   "metadata": {},
   "source": [
    "## set"
   ]
  },
  {
   "cell_type": "markdown",
   "id": "1846447c",
   "metadata": {},
   "source": [
    "#### 연습문제\n",
    "- 단어에 사용된 문자는 몇개인가?\n",
    "    - 공백 제거"
   ]
  },
  {
   "cell_type": "code",
   "execution_count": 2,
   "id": "ab7054d6",
   "metadata": {},
   "outputs": [
    {
     "data": {
      "text/plain": [
       "7"
      ]
     },
     "execution_count": 2,
     "metadata": {},
     "output_type": "execute_result"
    }
   ],
   "source": [
    "a = 'Hello World'\n",
    "\n",
    "len(set(a) - set(' '))"
   ]
  },
  {
   "cell_type": "code",
   "execution_count": 3,
   "id": "64a2731d",
   "metadata": {},
   "outputs": [
    {
     "data": {
      "text/plain": [
       "{' ', 'H', 'W', 'd', 'e', 'l', 'o', 'r'}"
      ]
     },
     "execution_count": 3,
     "metadata": {},
     "output_type": "execute_result"
    }
   ],
   "source": [
    "set(a)"
   ]
  },
  {
   "cell_type": "markdown",
   "id": "86a6970f",
   "metadata": {},
   "source": [
    "- set을 바로 문자열로 변환 가능한가?"
   ]
  },
  {
   "cell_type": "code",
   "execution_count": 4,
   "id": "7374fcc0",
   "metadata": {},
   "outputs": [
    {
     "data": {
      "text/plain": [
       "\"{'o', 'e', 'l', 'd', 'H', ' ', 'r', 'W'}\""
      ]
     },
     "execution_count": 4,
     "metadata": {},
     "output_type": "execute_result"
    }
   ],
   "source": [
    "str(set(a))"
   ]
  },
  {
   "cell_type": "markdown",
   "id": "bfb7f36a",
   "metadata": {},
   "source": [
    "문법적으로 가능하지만 {} 괄호를 포함하여 통째로 문자 전환된다. 의도와 맞지 않음"
   ]
  },
  {
   "cell_type": "code",
   "execution_count": 7,
   "id": "d28e2c94",
   "metadata": {},
   "outputs": [
    {
     "name": "stdout",
     "output_type": "stream",
     "text": [
      "{'o', 'e', 'l', 'd', 'H', ' ', 'r', 'W'}\n",
      "oeldH rW\n"
     ]
    }
   ],
   "source": [
    "result = ''\n",
    "for aa in set(a):\n",
    "    result += aa\n",
    "print(set(a))\n",
    "print(result)"
   ]
  },
  {
   "cell_type": "markdown",
   "id": "b34540a8",
   "metadata": {},
   "source": [
    "#### 연습 문제 - 중복 탐색\n",
    "- 다음 두 개의 데이터에서 중복된 단어만을 선택하라."
   ]
  },
  {
   "cell_type": "code",
   "execution_count": 8,
   "id": "e61cfa2a",
   "metadata": {},
   "outputs": [],
   "source": [
    "data0 = ['apple', 'banana', 'orange']\n",
    "data1 = ['apple', 'melon', 'banana']"
   ]
  },
  {
   "cell_type": "markdown",
   "id": "0195dc57",
   "metadata": {},
   "source": [
    "set type으로 전환을 먼저 한 뒤 교집합 연산 수행"
   ]
  },
  {
   "cell_type": "code",
   "execution_count": 10,
   "id": "95127052",
   "metadata": {},
   "outputs": [
    {
     "data": {
      "text/plain": [
       "{'apple', 'banana'}"
      ]
     },
     "execution_count": 10,
     "metadata": {},
     "output_type": "execute_result"
    }
   ],
   "source": [
    "set(data0) & set(data1)"
   ]
  },
  {
   "cell_type": "markdown",
   "id": "7d2a3607",
   "metadata": {},
   "source": [
    "#### 연습 문제 -  데이터 전처리\n",
    "- 다음 두 개의 데이터에서 중복된 단어만을 선택하라.\n",
    "    - 대소 문자의 구분은 하지 않는다.\n",
    "    - Apple과 apple은 같은 단어"
   ]
  },
  {
   "cell_type": "code",
   "execution_count": 11,
   "id": "2a73005c",
   "metadata": {},
   "outputs": [],
   "source": [
    "data0 = ['apple', 'banana', 'orange']\n",
    "data1 = ['Apple', 'melon', 'Banana']"
   ]
  },
  {
   "cell_type": "code",
   "execution_count": 15,
   "id": "d3f43367",
   "metadata": {},
   "outputs": [
    {
     "data": {
      "text/plain": [
       "{'apple', 'banana'}"
      ]
     },
     "execution_count": 15,
     "metadata": {},
     "output_type": "execute_result"
    }
   ],
   "source": [
    "# 1개 요소 씩 lower() 메서드 적용하여 소문자로 변환\n",
    "# list comprehension 사용하여 소문자 list를 만들고 이를 set 형변환\n",
    "# set를 data0_new, data1_new에 각각 binding\n",
    "data0_new = set([data.lower() for data in data0])\n",
    "data1_new = set([data.lower() for data in data1])\n",
    "\n",
    "# 교집합 연산\n",
    "data0_new & data1_new"
   ]
  },
  {
   "cell_type": "markdown",
   "id": "41265d2f",
   "metadata": {},
   "source": [
    "data0에서 탐색된 원본 데이터 출력"
   ]
  },
  {
   "cell_type": "code",
   "execution_count": 18,
   "id": "26aed9de",
   "metadata": {},
   "outputs": [
    {
     "name": "stdout",
     "output_type": "stream",
     "text": [
      "banana apple "
     ]
    }
   ],
   "source": [
    "result = data0_new & data1_new\n",
    "\n",
    "for data in result:\n",
    "    for raw in data0:\n",
    "        if raw.lower() == data:\n",
    "            print(raw, end = ' ')"
   ]
  },
  {
   "cell_type": "markdown",
   "id": "493a6f1e",
   "metadata": {},
   "source": [
    "data1에서 탐색된 원본 데이터 출력"
   ]
  },
  {
   "cell_type": "code",
   "execution_count": 19,
   "id": "fca7262f",
   "metadata": {},
   "outputs": [
    {
     "name": "stdout",
     "output_type": "stream",
     "text": [
      "Banana Apple "
     ]
    }
   ],
   "source": [
    "result = data0_new & data1_new\n",
    "\n",
    "for data in result:\n",
    "    for raw in data1:\n",
    "        if raw.lower() == data:\n",
    "            print(raw, end = ' ')"
   ]
  },
  {
   "cell_type": "markdown",
   "id": "75e14c3a",
   "metadata": {},
   "source": [
    "## 튜플\n",
    "- 순서 있음 : 인덱싱과 슬라이싱 사용 가능\n",
    "- 삽입, 수정, 삭제 불가 (immutable)\n",
    "    - 수정 불가능한 자료에 사용하여 데이터를 보호"
   ]
  },
  {
   "cell_type": "markdown",
   "id": "b51f3208",
   "metadata": {},
   "source": [
    "#### 튜플의 패킹 (packing)\n",
    "- 하나 이상의 값을 튜플로 묶는 것"
   ]
  },
  {
   "cell_type": "code",
   "execution_count": 20,
   "id": "5bd82239",
   "metadata": {},
   "outputs": [
    {
     "name": "stdout",
     "output_type": "stream",
     "text": [
      "(3, 4)\n"
     ]
    }
   ],
   "source": [
    "resolution = (3, 4)\n",
    "print(resolution)"
   ]
  },
  {
   "cell_type": "code",
   "execution_count": 22,
   "id": "cab578a1",
   "metadata": {},
   "outputs": [
    {
     "name": "stdout",
     "output_type": "stream",
     "text": [
      "(3, 4)\n"
     ]
    }
   ],
   "source": [
    "resolution = 3, 4 # 괄호 생략 가능\n",
    "print(resolution)"
   ]
  },
  {
   "cell_type": "markdown",
   "id": "285ed011",
   "metadata": {},
   "source": [
    "#### 튜플의 언패킹 (unpacking)\n",
    "- 튜플에 묶여 있는 값을 꺼내오는 행위"
   ]
  },
  {
   "cell_type": "code",
   "execution_count": 28,
   "id": "c9651e59",
   "metadata": {},
   "outputs": [
    {
     "name": "stdout",
     "output_type": "stream",
     "text": [
      "3\n",
      "[4, 5] <class 'list'>\n"
     ]
    }
   ],
   "source": [
    "# w, h, c = (3, 4, 5)\n",
    "w, *others = (3, 4, 5)\n",
    "# w, others = (3, 4, 5)\n",
    "\n",
    "print(w)\n",
    "print(others, type(others))"
   ]
  },
  {
   "cell_type": "markdown",
   "id": "54ce7dcd",
   "metadata": {},
   "source": [
    "- 이차원 데이터의 언패킹"
   ]
  },
  {
   "cell_type": "code",
   "execution_count": 25,
   "id": "1082d8b5",
   "metadata": {},
   "outputs": [
    {
     "name": "stdout",
     "output_type": "stream",
     "text": [
      "3\n",
      "4\n",
      "5\n"
     ]
    }
   ],
   "source": [
    "(w, h), c = ((3, 4), 5)\n",
    "print(w)\n",
    "print(h)\n",
    "print(c)"
   ]
  },
  {
   "cell_type": "code",
   "execution_count": 26,
   "id": "81bcb847",
   "metadata": {},
   "outputs": [
    {
     "name": "stdout",
     "output_type": "stream",
     "text": [
      "1\n",
      "2\n",
      "3\n",
      "4\n"
     ]
    }
   ],
   "source": [
    "(a, b), (c, d) = ((1, 2),(3, 4))\n",
    "print(a)\n",
    "print(b)\n",
    "print(c)\n",
    "print(d)"
   ]
  },
  {
   "cell_type": "markdown",
   "id": "7a4e1917",
   "metadata": {},
   "source": [
    "#### 연습 문제\n",
    "- data에서 이름만을 선택해서 출력하라."
   ]
  },
  {
   "cell_type": "code",
   "execution_count": 29,
   "id": "9408fae2",
   "metadata": {},
   "outputs": [],
   "source": [
    "data = (('김가람', '32', 170), ('임선빈', '33', 160))"
   ]
  },
  {
   "cell_type": "code",
   "execution_count": 30,
   "id": "c3c8306e",
   "metadata": {},
   "outputs": [
    {
     "name": "stdout",
     "output_type": "stream",
     "text": [
      "김가람 임선빈\n"
     ]
    }
   ],
   "source": [
    "(a, _, _), (b ,_ ,_) = data\n",
    "print(a, b)"
   ]
  },
  {
   "cell_type": "markdown",
   "id": "f656b089",
   "metadata": {},
   "source": [
    "#### 함수와 튜플\n",
    "- 함수의 반환 값으로 튜플 사용 가능\n",
    "    - 함수 내에서 패킹\n",
    "    - 함수 호출부에서 언패킹"
   ]
  },
  {
   "cell_type": "code",
   "execution_count": 31,
   "id": "fb5b4623",
   "metadata": {},
   "outputs": [
    {
     "name": "stdout",
     "output_type": "stream",
     "text": [
      "1 <class 'int'>\n",
      "[2, 3] <class 'list'>\n"
     ]
    }
   ],
   "source": [
    "def get_nums():\n",
    "    return 1, 2, 3\n",
    "\n",
    "a, *dont_care = get_nums()\n",
    "print(a, type(a))\n",
    "print(dont_care, type(dont_care))"
   ]
  },
  {
   "cell_type": "markdown",
   "id": "91cfe95d",
   "metadata": {},
   "source": [
    "- 가변인자\n",
    "    - 인자의 수를 자유롭게 입력"
   ]
  },
  {
   "cell_type": "code",
   "execution_count": 33,
   "id": "5f2ed98b",
   "metadata": {},
   "outputs": [
    {
     "name": "stdout",
     "output_type": "stream",
     "text": [
      "1 2 (3, 4)\n"
     ]
    }
   ],
   "source": [
    "def print_args(a, b, *others): # 나머지를 튜플로 전달한다.\n",
    "    print(a, b, others)\n",
    "    \n",
    "print_args(1, 2, 3, 4)"
   ]
  },
  {
   "cell_type": "markdown",
   "id": "e410314f",
   "metadata": {},
   "source": [
    "- Unpacking 후 데이터 전달"
   ]
  },
  {
   "cell_type": "code",
   "execution_count": 34,
   "id": "214a30ca",
   "metadata": {},
   "outputs": [
    {
     "name": "stdout",
     "output_type": "stream",
     "text": [
      "30\n"
     ]
    }
   ],
   "source": [
    "def print_sum(a, b):\n",
    "    print (a + b)\n",
    "    \n",
    "data = (10, 20)\n",
    "print_sum(*data)"
   ]
  },
  {
   "cell_type": "markdown",
   "id": "63d6496f",
   "metadata": {},
   "source": [
    "파이썬에서 \"*\" 기호는 다양한 용도로 사용될 수 있습니다. 일반적으로 다음과 같은 용도로 사용됩니다:\n",
    "\n",
    "곱셈 기호: 두 수를 곱하는 데 사용됩니다. 예를 들어, 2 * 3은 2와 3을 곱한 것으로 6을 나타냅니다.\n",
    "\n",
    "리스트 언패킹 연산자: 리스트 언패킹 연산자는 \"*\" 기호를 사용하여 리스트를 풀어내어 개별 요소를 전달할 수 있습니다. 예를 들어, a = [1, 2, 3]이라는 리스트가 있을 때, *a를 사용하여 1, 2, 3을 각각의 인수로 전달할 수 있습니다.\n",
    "\n",
    "가변 인자 매개변수: 함수의 매개변수로 \"*\" 기호를 사용하여 가변 인자를 전달할 수 있습니다. 이를 통해 함수에서 다양한 개수의 인자를 처리할 수 있습니다. 예를 들어, def my_function(*args)와 같이 선언하면 my_function() 함수는 다양한 개수의 인자를 받아들일 수 있습니다.\n",
    "\n",
    "딕셔너리 언패킹 연산자: 딕셔너리 언패킹 연산자는 \"**\" 기호를 사용하여 딕셔너리를 풀어내어 개별 요소를 전달할 수 있습니다. 예를 들어, d = {\"a\": 1, \"b\": 2}라는 딕셔너리가 있을 때, **d를 사용하여 a=1, b=2와 같은 형태로 개별 요소를 전달할 수 있습니다.\n",
    "\n",
    "반복 연산자: \"*\" 기호는 문자열 또는 리스트와 같은 시퀀스 자료형을 반복할 때 사용될 수 있습니다. 예를 들어, \"hello \" * 3은 \"hello hello hello \"와 같이 문자열을 3번 반복한 것입니다."
   ]
  },
  {
   "cell_type": "markdown",
   "id": "e8dd7e80",
   "metadata": {},
   "source": [
    "#### 네임드 튜플\n",
    "- 딕셔너리와 유사하게 이름이 부여된 튜플\n",
    "- collections 모듈에서 import 할 수 있음"
   ]
  },
  {
   "cell_type": "code",
   "execution_count": 43,
   "id": "d476c964",
   "metadata": {},
   "outputs": [
    {
     "name": "stdout",
     "output_type": "stream",
     "text": [
      "resolution(width=3, height=4)\n"
     ]
    }
   ],
   "source": [
    "from collections import namedtuple\n",
    "\n",
    "Res = namedtuple('resolution', ['width', 'height'])\n",
    "r = Res(3, 4) # Res 인스턴스에 3, 4를 입력\n",
    "print(r)"
   ]
  },
  {
   "cell_type": "markdown",
   "id": "73f4df6a",
   "metadata": {},
   "source": [
    "- 네임드튜플은 클래스를 만든다."
   ]
  },
  {
   "cell_type": "code",
   "execution_count": 45,
   "id": "39124479",
   "metadata": {},
   "outputs": [
    {
     "name": "stdout",
     "output_type": "stream",
     "text": [
      "<class '__main__.resolution'>\n"
     ]
    }
   ],
   "source": [
    "print(Res)"
   ]
  },
  {
   "cell_type": "markdown",
   "id": "3bbcbdc7",
   "metadata": {},
   "source": [
    "- 아래와 같은 형태의 클래스를 만들어 준 것이다."
   ]
  },
  {
   "cell_type": "code",
   "execution_count": 46,
   "id": "4de13800",
   "metadata": {},
   "outputs": [],
   "source": [
    "class Res:\n",
    "    def __init__(self, width, height):\n",
    "        self.width = width\n",
    "        self.height = height"
   ]
  },
  {
   "cell_type": "markdown",
   "id": "c2f0026a",
   "metadata": {},
   "source": [
    "- 숫자 및 이름으로 인덱싱 가능하다"
   ]
  },
  {
   "cell_type": "code",
   "execution_count": 49,
   "id": "4ccaaccb",
   "metadata": {},
   "outputs": [
    {
     "name": "stdout",
     "output_type": "stream",
     "text": [
      "3 3\n"
     ]
    }
   ],
   "source": [
    "print(r[0], r.width)"
   ]
  },
  {
   "cell_type": "markdown",
   "id": "dd80f176",
   "metadata": {},
   "source": [
    "#### 네임드 튜플 단덤\n",
    "- 기본 인수값을 설정할 수 없다.\n",
    "    - 데이터에 선택적 속성이 많은 경우 불편함"
   ]
  },
  {
   "cell_type": "markdown",
   "id": "6bda7e8c",
   "metadata": {},
   "source": [
    "### 딕셔너리\n",
    "- 연관된 키-값의 쌍을 저장하는 데 효율적인 자료구조\n",
    "    - 데이터에 레이블을 붙여서 저장하고 할 때 사용\n",
    "   \n",
    "딕셔너리 = {데이터0, 데이터1} : 중괄호로 딕셔너리를 정의\n",
    "\n",
    "딕셔너리 = dict(key = value)"
   ]
  },
  {
   "cell_type": "markdown",
   "id": "48a14667",
   "metadata": {},
   "source": [
    "#### 딕셔너리와 For문\n",
    "- 딕셔너리의 메서드와 함께 사용\n",
    "    - for k in 딕셔너리\n",
    "    - for v in 딕셔너리.values()\n",
    "    - for k, v in 딕셔너리.items()"
   ]
  },
  {
   "cell_type": "markdown",
   "id": "db93eb4f",
   "metadata": {},
   "source": [
    "#### 딕셔너리 컴프리헨션\n",
    "- 리스트 컴프리헨션과 원리는 동일함"
   ]
  },
  {
   "cell_type": "code",
   "execution_count": 51,
   "id": "6a34fe02",
   "metadata": {},
   "outputs": [
    {
     "name": "stdout",
     "output_type": "stream",
     "text": [
      "{'a': 1, 'b': 1}\n"
     ]
    }
   ],
   "source": [
    "d = dict(a = 1, b = 1)\n",
    "r = {}\n",
    "for k, v in d.items():\n",
    "    r[k] = v\n",
    "print(r)"
   ]
  },
  {
   "cell_type": "code",
   "execution_count": 61,
   "id": "1e86982b",
   "metadata": {},
   "outputs": [
    {
     "data": {
      "text/plain": [
       "[['a', 1], ['b', 1]]"
      ]
     },
     "execution_count": 61,
     "metadata": {},
     "output_type": "execute_result"
    }
   ],
   "source": [
    "# 딕셔너리를 리스트 컴프리헨션으로 저장\n",
    "[[k, v] for k, v in d.items()]"
   ]
  },
  {
   "cell_type": "code",
   "execution_count": 62,
   "id": "501e38d8",
   "metadata": {},
   "outputs": [
    {
     "data": {
      "text/plain": [
       "{'a': 1, 'b': 1}"
      ]
     },
     "execution_count": 62,
     "metadata": {},
     "output_type": "execute_result"
    }
   ],
   "source": [
    "# 딕셔너리를 딕셔너리 컴프리헨션으로 저장\n",
    "{k:v for k,v in d.items()}"
   ]
  },
  {
   "cell_type": "markdown",
   "id": "ed29787d",
   "metadata": {},
   "source": [
    "#### 연습 문제\n",
    "- 가격이 400원 이상인 데이터만을 필터링해서 딕셔너리에 저장하라.\n",
    "    - 딕셔너리 컴프리헨션을 ㅏ영하라"
   ]
  },
  {
   "cell_type": "code",
   "execution_count": 64,
   "id": "f70ea605",
   "metadata": {},
   "outputs": [],
   "source": [
    "d = dict(양파링 = 1000, 새우깡 = 300, 고래밥 = 600)"
   ]
  },
  {
   "cell_type": "code",
   "execution_count": 66,
   "id": "e26fe0a6",
   "metadata": {},
   "outputs": [
    {
     "name": "stdout",
     "output_type": "stream",
     "text": [
      "{'양파링': 1000, '고래밥': 600}\n"
     ]
    }
   ],
   "source": [
    "d_400 = {k:v for k,v in d.items() if v >= 400}\n",
    "print(d_400)"
   ]
  },
  {
   "cell_type": "markdown",
   "id": "6579553f",
   "metadata": {},
   "source": [
    "#### 연습 문제 2\n",
    "- 파일 (fruit.txt)에는 과일 이름이 저장되어 있다.\n",
    "- 단어의 빈도수를 세서 딕셔너리로 결과를 저장하라."
   ]
  },
  {
   "cell_type": "markdown",
   "id": "b4c2f609",
   "metadata": {},
   "source": [
    "- 파일 만들기"
   ]
  },
  {
   "cell_type": "code",
   "execution_count": 73,
   "id": "201dcc68",
   "metadata": {},
   "outputs": [],
   "source": [
    "with open('fruit.txt', mode = 'w', encoding = 'utf-8') as f:\n",
    "    f.write(\n",
    "'''apple\n",
    "apple\n",
    "banana\n",
    "grape \n",
    "mango\n",
    "jujube\n",
    "grape\n",
    "citron\n",
    "mango\n",
    "grape\n",
    "melon\n",
    "grape'''\n",
    "    )"
   ]
  },
  {
   "cell_type": "markdown",
   "id": "a7b0ba54",
   "metadata": {},
   "source": [
    "- 빈도수 계산"
   ]
  },
  {
   "cell_type": "code",
   "execution_count": 95,
   "id": "119f1189",
   "metadata": {},
   "outputs": [
    {
     "name": "stdout",
     "output_type": "stream",
     "text": [
      "{'apple': 2, 'banana': 1, 'grape': 4, 'mango': 2, 'jujube': 1, 'citron': 1, 'melon': 1}\n"
     ]
    }
   ],
   "source": [
    "r = {}\n",
    "with open('fruit.txt', mode = 'r') as f:\n",
    "    while True:\n",
    "        line = f.readline().strip()\n",
    "        if line == '': break\n",
    "            \n",
    "        if line in r:\n",
    "            r[line] = r[line] + 1\n",
    "        else:\n",
    "            r[line] = 1 # 아무것도 없는 초기 상태에 대한 예외 처리 - key값이 없어 에러 발생하는 것 방지\n",
    "\n",
    "print(r)"
   ]
  },
  {
   "cell_type": "markdown",
   "id": "6602d8ec",
   "metadata": {},
   "source": [
    "- 두번째 방법 : get() 메서드 사용"
   ]
  },
  {
   "cell_type": "code",
   "execution_count": null,
   "id": "e85bb896",
   "metadata": {},
   "outputs": [],
   "source": [
    "with open('fruit.txt', mode = 'r') as f:\n",
    "    while True:\n",
    "        line = f.readline().strip()\n",
    "        if line == '': break\n",
    "            \n",
    "        if line in r:\n",
    "            r[line] = r[line] + 1\n",
    "        else:\n",
    "            r[line] = 1\n",
    "\n",
    "print(r)"
   ]
  },
  {
   "cell_type": "markdown",
   "id": "1bfcfbbd",
   "metadata": {},
   "source": [
    "- 세번째 방법 : collections 모듈의 defaultdict 클래스 활용"
   ]
  },
  {
   "cell_type": "code",
   "execution_count": null,
   "id": "ff3d7096",
   "metadata": {},
   "outputs": [],
   "source": [
    "with open('fruit.txt', mode = 'r') as f:\n",
    "    while True:\n",
    "        line = f.readline().strip()\n",
    "        if line == '': break\n",
    "            \n",
    "        if line in r:\n",
    "            r[line] = r[line] + 1\n",
    "        else:\n",
    "            r[line] = 1 # 아무것도 없는 초기 상태에 대한 예외 처리 - key값이 없어 에러 발생하는 것 방지\n",
    "\n",
    "print(r)"
   ]
  }
 ],
 "metadata": {
  "kernelspec": {
   "display_name": "Python 3 (ipykernel)",
   "language": "python",
   "name": "python3"
  },
  "language_info": {
   "codemirror_mode": {
    "name": "ipython",
    "version": 3
   },
   "file_extension": ".py",
   "mimetype": "text/x-python",
   "name": "python",
   "nbconvert_exporter": "python",
   "pygments_lexer": "ipython3",
   "version": "3.7.16"
  }
 },
 "nbformat": 4,
 "nbformat_minor": 5
}
