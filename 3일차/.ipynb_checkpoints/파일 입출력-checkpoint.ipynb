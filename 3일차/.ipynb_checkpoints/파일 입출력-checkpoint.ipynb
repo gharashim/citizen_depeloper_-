{
 "cells": [
  {
   "cell_type": "markdown",
   "id": "f7bada34",
   "metadata": {},
   "source": [
    "### 파이썬 파일 입출력 : open()"
   ]
  },
  {
   "cell_type": "markdown",
   "id": "ce573f19",
   "metadata": {},
   "source": [
    "OpenTextMode\n",
    "- 'r' : 읽기 모드\n",
    "- 'w' : 쓰기 모드\n",
    "\n",
    "encoding\n",
    "- 인코딩 방식 지정"
   ]
  },
  {
   "cell_type": "markdown",
   "id": "5ba8a9c1",
   "metadata": {},
   "source": [
    "파일 만들기"
   ]
  },
  {
   "cell_type": "code",
   "execution_count": 2,
   "id": "ffbd498d",
   "metadata": {},
   "outputs": [],
   "source": [
    "f = open('data.txt', mode = 'w', encoding = 'utf-8') # data.txt라는 파일을 만들어 열었다. f라는 변수에 open class를 바인딩한 것\n",
    "\n",
    "# write\n",
    "f.write('어피치\\n') # f 인스턴스의 write 메서드를 이용하여 data.txt에 입력\n",
    "f.write('라이언')\n",
    "\n",
    "# save & terminate\n",
    "f.close() # 파일은 항상 닫아야 한다."
   ]
  },
  {
   "cell_type": "code",
   "execution_count": 3,
   "id": "39e35d43",
   "metadata": {},
   "outputs": [],
   "source": [
    "with open('data2.txt', mode = 'w', encoding = 'utf-8') as f:\n",
    "    # 이렇게 쓰면 close를 쓰지 않아도 자동으로 종료해준다.\n",
    "    f.write('어피치\\n') # f 인스턴스의 write 메서드를 이용하여 data.txt에 입력\n",
    "    f.write('라이언')"
   ]
  },
  {
   "cell_type": "markdown",
   "id": "51c17b26",
   "metadata": {},
   "source": [
    "현재 파이썬 파일이 실행되는 위치와 상관없이 파일의 절대 경로를 구하기 위해서는 os 모듈을 사용할 수 있습니다.\n",
    "\n",
    "다음은 os.path.abspath() 함수를 사용하여 현재 실행 중인 파이썬 파일의 절대 경로를 구하는 간단한 예시 코드입니다."
   ]
  },
  {
   "cell_type": "code",
   "execution_count": 4,
   "id": "1aba6f6b",
   "metadata": {},
   "outputs": [
    {
     "ename": "NameError",
     "evalue": "name '__file__' is not defined",
     "output_type": "error",
     "traceback": [
      "\u001b[1;31m---------------------------------------------------------------------------\u001b[0m",
      "\u001b[1;31mNameError\u001b[0m                                 Traceback (most recent call last)",
      "\u001b[1;32m~\\AppData\\Local\\Temp\\ipykernel_19348\\1381182789.py\u001b[0m in \u001b[0;36m<module>\u001b[1;34m\u001b[0m\n\u001b[0;32m      2\u001b[0m \u001b[1;33m\u001b[0m\u001b[0m\n\u001b[0;32m      3\u001b[0m \u001b[1;31m# 현재 실행 중인 파일의 절대 경로 구하기\u001b[0m\u001b[1;33m\u001b[0m\u001b[1;33m\u001b[0m\u001b[1;33m\u001b[0m\u001b[0m\n\u001b[1;32m----> 4\u001b[1;33m \u001b[0mabs_path\u001b[0m \u001b[1;33m=\u001b[0m \u001b[0mos\u001b[0m\u001b[1;33m.\u001b[0m\u001b[0mpath\u001b[0m\u001b[1;33m.\u001b[0m\u001b[0mabspath\u001b[0m\u001b[1;33m(\u001b[0m\u001b[0m__file__\u001b[0m\u001b[1;33m)\u001b[0m\u001b[1;33m\u001b[0m\u001b[1;33m\u001b[0m\u001b[0m\n\u001b[0m\u001b[0;32m      5\u001b[0m \u001b[0mprint\u001b[0m\u001b[1;33m(\u001b[0m\u001b[0mabs_path\u001b[0m\u001b[1;33m)\u001b[0m\u001b[1;33m\u001b[0m\u001b[1;33m\u001b[0m\u001b[0m\n",
      "\u001b[1;31mNameError\u001b[0m: name '__file__' is not defined"
     ]
    }
   ],
   "source": [
    "import os\n",
    "\n",
    "# 현재 실행 중인 파일의 절대 경로 구하기\n",
    "abs_path = os.path.abspath(__file__)\n",
    "print(abs_path)\n"
   ]
  },
  {
   "cell_type": "markdown",
   "id": "0bab51c9",
   "metadata": {},
   "source": [
    "위 코드에서 os.path.abspath() 함수는 입력으로 받은 경로를 절대 경로로 변환하여 반환합니다. __file__은 현재 실행 중인 파이썬 파일의 경로를 나타내는 특수 변수입니다.\n",
    "\n",
    "만약 다른 파일의 절대 경로를 구하고 싶다면, 해당 파일의 경로를 os.path.abspath() 함수의 입력으로 사용하면 됩니다."
   ]
  },
  {
   "cell_type": "markdown",
   "id": "a63aaa95",
   "metadata": {},
   "source": [
    "#### 파일 읽어오기"
   ]
  },
  {
   "cell_type": "code",
   "execution_count": 12,
   "id": "7d69d97e",
   "metadata": {},
   "outputs": [
    {
     "name": "stdout",
     "output_type": "stream",
     "text": [
      "어피치\n",
      "라이언\n",
      "\n"
     ]
    }
   ],
   "source": [
    "with open('data2.txt', encoding = 'utf-8') as f:\n",
    "    while True:\n",
    "        line = f.readline() # 한줄씩 읽어온다.\n",
    "        print(line.strip())\n",
    "        if line == '': break"
   ]
  },
  {
   "cell_type": "code",
   "execution_count": 10,
   "id": "83f6ab01",
   "metadata": {},
   "outputs": [
    {
     "name": "stdout",
     "output_type": "stream",
     "text": [
      "['어피치\\n', '라이언']\n"
     ]
    }
   ],
   "source": [
    "with open('data2.txt', encoding = 'utf-8') as f:\n",
    "    lines = f.readlines()\n",
    "    print(lines)"
   ]
  }
 ],
 "metadata": {
  "kernelspec": {
   "display_name": "Python 3 (ipykernel)",
   "language": "python",
   "name": "python3"
  },
  "language_info": {
   "codemirror_mode": {
    "name": "ipython",
    "version": 3
   },
   "file_extension": ".py",
   "mimetype": "text/x-python",
   "name": "python",
   "nbconvert_exporter": "python",
   "pygments_lexer": "ipython3",
   "version": "3.7.16"
  }
 },
 "nbformat": 4,
 "nbformat_minor": 5
}
