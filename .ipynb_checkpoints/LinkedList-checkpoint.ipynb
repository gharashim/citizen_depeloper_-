{
 "cells": [
  {
   "cell_type": "markdown",
   "id": "1eb55bba",
   "metadata": {},
   "source": [
    "# Singly LinkedList"
   ]
  },
  {
   "cell_type": "markdown",
   "id": "a736ac8d",
   "metadata": {},
   "source": [
    "## 1. Node"
   ]
  },
  {
   "cell_type": "code",
   "execution_count": 1,
   "id": "dca5ba98",
   "metadata": {},
   "outputs": [],
   "source": [
    "class Node: # LinkedList를 구성하는 Node를 class 공간에 정의\n",
    "    def __init__(self ,data, next = None) -> None:\n",
    "        self.data = data # Node의 data\n",
    "        self.index = None # Node를 indexing 하기위해 추가\n",
    "        self.next = next # Singly Linke를 위한 property 정의"
   ]
  },
  {
   "cell_type": "markdown",
   "id": "2f6ebc4c",
   "metadata": {},
   "source": [
    "## 2. LinkedList"
   ]
  },
  {
   "cell_type": "code",
   "execution_count": 29,
   "id": "03059eb8",
   "metadata": {},
   "outputs": [],
   "source": [
    "class SinglyLinkedList: # 각 Node를 연결하는 LinkedList 정의\n",
    "    def __init__(self) -> None:\n",
    "        self.head = None # LinkedList의 head 정의\n",
    "    \n",
    "    \n",
    "    def prepend(self, node : Node) -> None: # LinkedList 맨 앞에 node 추가\n",
    "        node.next = self.head\n",
    "        self.head = node\n",
    "        \n",
    "    \n",
    "    def append(self, node : Node) -> None: # LinkedList 맨 뒤에 node 추가\n",
    "        if self.head is None:\n",
    "            self.head = node\n",
    "        else:\n",
    "            i = self.head\n",
    "            while i.next is not None:\n",
    "                i = i.next\n",
    "            i.next = node\n",
    "\n",
    "            \n",
    "    def show(self) -> list: # LinkedList로 연결된 node들의 data를 앞에서부터 순차적으로 출력\n",
    "        result = []\n",
    "        i = self.head\n",
    "        while i:\n",
    "            result.append(i.data)\n",
    "            i = i.next\n",
    "        return result\n",
    "        \n",
    "    \n",
    "    def count(self, val): # LinkedList 내 특정값의 갯수를 반환\n",
    "        cnt = 0\n",
    "        i = self.head\n",
    "        while i:\n",
    "            if i.data == val:\n",
    "                cnt += 1\n",
    "            i = i.next\n",
    "        return cnt\n",
    "    \n",
    "    \n",
    "#     def sort(self, node : Node) -> None:\n",
    "#         if self.head is None:\n",
    "#             self.head = node\n",
    "#         else:\n",
    "#             i = self.head\n",
    "#             while i is not None:\n",
    "#                 if node.data < i.data:\n",
    "#                     node.next = i.next\n",
    "#                     i.next = node\n",
    "# #                 else:\n",
    "# #                     i = node.next\n",
    "#                 i = i.next\n",
    "            "
   ]
  },
  {
   "cell_type": "code",
   "execution_count": 13,
   "id": "fc80e410",
   "metadata": {},
   "outputs": [],
   "source": [
    "a = Node(0)\n",
    "b = Node(1)\n",
    "c = Node(2)\n",
    "d = Node(3)\n",
    "\n",
    "singlylist1 = SinglyLinkedList()\n",
    "singlylist2 = SinglyLinkedList()"
   ]
  },
  {
   "cell_type": "code",
   "execution_count": 14,
   "id": "8059c186",
   "metadata": {},
   "outputs": [],
   "source": [
    "singlylist1.prepend(a)\n",
    "singlylist1.prepend(b)\n",
    "singlylist1.prepend(c)\n",
    "singlylist1.prepend(d)"
   ]
  },
  {
   "cell_type": "code",
   "execution_count": 15,
   "id": "ede03905",
   "metadata": {},
   "outputs": [
    {
     "data": {
      "text/plain": [
       "[3, 2, 1, 0]"
      ]
     },
     "execution_count": 15,
     "metadata": {},
     "output_type": "execute_result"
    }
   ],
   "source": [
    "singlylist1.show()"
   ]
  },
  {
   "cell_type": "code",
   "execution_count": 16,
   "id": "35ca799f",
   "metadata": {},
   "outputs": [],
   "source": [
    "e = Node(10)\n",
    "f = Node(12)\n",
    "g = Node(9)\n",
    "h = Node(53)\n",
    "\n",
    "singlylist2.append(e)\n",
    "singlylist2.append(f)\n",
    "singlylist2.append(g)\n",
    "singlylist2.append(h)"
   ]
  },
  {
   "cell_type": "code",
   "execution_count": 17,
   "id": "90a14a87",
   "metadata": {},
   "outputs": [
    {
     "data": {
      "text/plain": [
       "[10, 12, 9, 53]"
      ]
     },
     "execution_count": 17,
     "metadata": {},
     "output_type": "execute_result"
    }
   ],
   "source": [
    "singlylist2.show()"
   ]
  },
  {
   "cell_type": "code",
   "execution_count": 18,
   "id": "789e7eac",
   "metadata": {},
   "outputs": [
    {
     "data": {
      "text/plain": [
       "0"
      ]
     },
     "execution_count": 18,
     "metadata": {},
     "output_type": "execute_result"
    }
   ],
   "source": [
    "singlylist2.count(8)"
   ]
  },
  {
   "cell_type": "code",
   "execution_count": 30,
   "id": "7ca81134",
   "metadata": {},
   "outputs": [],
   "source": [
    "i = Node(13)\n",
    "j = Node(11)\n",
    "k = Node(28)\n",
    "l = Node(35)\n",
    "\n",
    "\n",
    "singlylist3 = SinglyLinkedList()\n",
    "\n",
    "singlylist3.sort(i)\n",
    "singlylist3.sort(j)\n",
    "singlylist3.sort(k)\n",
    "singlylist3.sort(l)"
   ]
  },
  {
   "cell_type": "code",
   "execution_count": 31,
   "id": "abd7b5a8",
   "metadata": {},
   "outputs": [
    {
     "data": {
      "text/plain": [
       "[13]"
      ]
     },
     "execution_count": 31,
     "metadata": {},
     "output_type": "execute_result"
    }
   ],
   "source": [
    "singlylist3.show()"
   ]
  }
 ],
 "metadata": {
  "kernelspec": {
   "display_name": "Python 3 (ipykernel)",
   "language": "python",
   "name": "python3"
  },
  "language_info": {
   "codemirror_mode": {
    "name": "ipython",
    "version": 3
   },
   "file_extension": ".py",
   "mimetype": "text/x-python",
   "name": "python",
   "nbconvert_exporter": "python",
   "pygments_lexer": "ipython3",
   "version": "3.7.16"
  }
 },
 "nbformat": 4,
 "nbformat_minor": 5
}
