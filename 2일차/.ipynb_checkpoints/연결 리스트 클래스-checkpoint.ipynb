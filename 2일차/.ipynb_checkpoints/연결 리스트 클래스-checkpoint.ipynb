{
 "cells": [
  {
   "cell_type": "markdown",
   "id": "5559c8a7",
   "metadata": {},
   "source": [
    "### 연결 리스트 (Linked List)\n",
    "- 데이터를 연결해 놓은 자료 구조\n",
    "    - 순서가 있는 자료구조\n",
    "    - 파이썬 List도 일종의 연결 리스트"
   ]
  },
  {
   "cell_type": "markdown",
   "id": "5a8ac443",
   "metadata": {},
   "source": [
    "#### 노드 (Node)\n",
    "- 자료구조에서 데이터를 저장하는 단위\n",
    "- 연결 방식에 따라 자료구조의 특성이 결정 됨"
   ]
  },
  {
   "cell_type": "markdown",
   "id": "b6194a8b",
   "metadata": {},
   "source": [
    "#### 연결 방식\n",
    "- Linked List\n",
    "- Tree\n",
    "- ..."
   ]
  },
  {
   "cell_type": "markdown",
   "id": "e2a88008",
   "metadata": {},
   "source": [
    "#### 노드 클래스\n",
    "- 클래스로 표현"
   ]
  },
  {
   "cell_type": "code",
   "execution_count": 26,
   "id": "cca42fa4",
   "metadata": {},
   "outputs": [],
   "source": [
    "class Node:\n",
    "    def __init__(self, val, next = None) -> None:\n",
    "        self.data = val\n",
    "        self.next = next # 연결(Linked) 될 node를 클래스 속성으로 부여"
   ]
  },
  {
   "cell_type": "markdown",
   "id": "100a7584",
   "metadata": {},
   "source": [
    "#### 연습 문제 : 단순 연결\n",
    "- 다음 구조로 노드를 연결하라.\n",
    "    - Node는 0, 1, 2 순서대로 생성\n",
    "        - root > 0 > 1 > 2\n",
    "    - 순서대로 값을 연결"
   ]
  },
  {
   "cell_type": "code",
   "execution_count": 39,
   "id": "53d2e24c",
   "metadata": {},
   "outputs": [],
   "source": [
    "class Node:\n",
    "    def __init__(self, val, next = None) -> None:\n",
    "        self.data = val\n",
    "        self.next = next # 연결(Linked) 될 node를 클래스 속성으로 부여\n",
    "        \n",
    "# root = Node('root')\n",
    "a1 = Node(0)\n",
    "a2 = Node(1)\n",
    "a3 = Node(2)\n",
    "\n",
    "root = a1 # next property를 a1에 할당 / a1 인스턴스를 root의 next property에 바인딩\n",
    "a1.next = a2\n",
    "a2.next = a3\n",
    "# 노가다 처럼 하나씩 연결... 가독성 및 재사용성 Bad"
   ]
  },
  {
   "cell_type": "code",
   "execution_count": 37,
   "id": "7898f144",
   "metadata": {
    "scrolled": true
   },
   "outputs": [
    {
     "name": "stdout",
     "output_type": "stream",
     "text": [
      "0\n",
      "1\n",
      "2\n"
     ]
    }
   ],
   "source": [
    "print(root.data)\n",
    "print(root.next.data)\n",
    "print(root.next.next.data)"
   ]
  },
  {
   "cell_type": "markdown",
   "id": "c33164a5",
   "metadata": {},
   "source": [
    "### 클래스로 코드 정리\n",
    "- 노드 연결 관계를 정의하는 클래스 정의\n",
    "    - 가독성 및 재사용성 향상"
   ]
  },
  {
   "cell_type": "markdown",
   "id": "7fa6c8af",
   "metadata": {},
   "source": [
    "l = LinkedList( )\n",
    "\n",
    "n = Node(1)\\\n",
    "l.push(n)\n",
    "\n",
    "n = Node(2)\\\n",
    "l.push(n)\n",
    "\n",
    "n = Node(2)\\\n",
    "l.push(n)\n",
    "\n",
    "l.show()"
   ]
  },
  {
   "cell_type": "markdown",
   "id": "3a84d629",
   "metadata": {},
   "source": [
    "#### 연습 문제\n",
    "- 최신 추가된 데이터를 root에 연결하는 Linked List 클래스를 정의하라\n",
    "    - root > 2 > 1 > 0"
   ]
  },
  {
   "cell_type": "code",
   "execution_count": 61,
   "id": "c8aa2f7a",
   "metadata": {},
   "outputs": [
    {
     "name": "stdout",
     "output_type": "stream",
     "text": [
      "2\n",
      "1\n",
      "0\n"
     ]
    }
   ],
   "source": [
    "class Node:\n",
    "    def __init__(self, val, next = None) -> None:\n",
    "        self.data = val\n",
    "        self.next = next\n",
    "\n",
    "class LinkedList:\n",
    "    def __init__(self):\n",
    "        self.root = None\n",
    "    \n",
    "    def push(self, n: Node): # push - 최신값을 root에 연결\n",
    "        if self.root is None: # root가 비어있으면 n 인스턴스를 바인딩\n",
    "            self.root = n\n",
    "        else:\n",
    "            # 1) 새 노드의 next를 설정\n",
    "            # 2) root를 조정한다.\n",
    "            n.next = self.root # self.root에 저장된 이전 최신값을 다음으로 미룬다\n",
    "            self.root = n # 가장 최근에 호출된 node인 n을 root에 연결한다.\n",
    "    \n",
    "l = LinkedList()\n",
    "n = Node(0)\n",
    "l.push(n)\n",
    "l.push(Node(1))\n",
    "l.push(Node(2))\n",
    "\n",
    "print(l.root.data)\n",
    "print(l.root.next.data)\n",
    "print(l.root.next.next.data)"
   ]
  },
  {
   "cell_type": "markdown",
   "id": "60070344",
   "metadata": {},
   "source": [
    "#### 연결 리스트의 각 노드에 저장된 data를 보여주는 메서드 구현"
   ]
  },
  {
   "cell_type": "code",
   "execution_count": 172,
   "id": "4b3db662",
   "metadata": {},
   "outputs": [],
   "source": [
    "class Node:\n",
    "    def __init__(self, val, next = None) -> None:\n",
    "        self.data = val\n",
    "        self.next = next\n",
    "\n",
    "class LinkedList:\n",
    "    def __init__(self):\n",
    "        self.root = None\n",
    "    \n",
    "    def push(self, n: Node) -> None: # push - 최신값을 root에 연결\n",
    "        if self.root is None: # root가 비어있으면 n 인스턴스를 바인딩\n",
    "            self.root = n\n",
    "        else:\n",
    "            # 1) 새 노드의 next를 설정\n",
    "            # 2) root를 조정한다.\n",
    "            n.next = self.root # self.root에 저장된 이전 최신값을 다음으로 미룬다\n",
    "            self.root = n # 가장 최근에 호출된 node인 n을 root에 연결한다.\n",
    "    \n",
    "    # show 메서드 구현        \n",
    "    def show(self) -> None: # 연결된 node의 data를 순서대로 보여주는 메서드 구현\n",
    "        curr= self.root\n",
    "        print('root', end = ' ') # end = ' '는 줄바뀜 방지\n",
    "        while(curr is not None): # 연결 리스트가 끝인지 확인\n",
    "            print('->', curr.data, end = ' ') # 값 출력\n",
    "            curr = curr.next # 이동\n",
    "        \n",
    "    def show_test(self) -> None: # 연결된 node의 data를 순서대로 보여주는 메서드 구현\n",
    "        curr= self.root\n",
    "        print('root', end = ' ') # end = ' '는 줄바뀜 방지\n",
    "        while(curr.next is not None): # 다음번 연결 리스트가 끝인지 확인\n",
    "            print('->', curr.data, end = ' ') # 값 출력\n",
    "            curr = curr.next # 이동\n",
    "    \n",
    "    def find_max(self) -> int: # Link 된 Node의 Data 중 최댓값 찾는 메서드 구현\n",
    "        max_ = -999999999999999999999\n",
    "        curr = self.root\n",
    "        while(curr is not None): # 연결 리스트가 끝인지 확인\n",
    "            if curr.data > max_: # 최댓값인지 확인\n",
    "                max_ = curr.data # 최댓값 갱신\n",
    "            curr = curr.next # 이동\n",
    "        return max_\n",
    "    \n",
    "    # 노드를 끝에 추가하는 append 메서드 구현\n",
    "    def append(self, n: Node):\n",
    "        if self.root is None: # 연결된 node 없으면 root에 n node 할당\n",
    "            self.root = n\n",
    "        else:\n",
    "            curr = self.root\n",
    "            while(curr.next is not None):\n",
    "#             while curr.next: curr.next가 None이면 자동으로 while을 탈출한다.\n",
    "                curr = curr.next\n",
    "            curr.next = n\n",
    "    \n",
    "    def sortedlist(self, n: Node): # 내림차순 정렬하는 메서드 구현\n",
    "#         curr = self.root\n",
    "        if self.root is None:\n",
    "            self.root = n\n",
    "        else:\n",
    "            while curr:\n",
    "                curr = self.root\n",
    "                if curr.data < n.data:\n",
    "                    n.next = curr\n",
    "                    curr = n\n",
    "                else:\n",
    "    #                 n.next = curr.next\n",
    "                    curr.next = n\n",
    "                curr = curr.next\n",
    "\n",
    "    # 처음 값을 삭제하는 메서드\n",
    "    def pop_front(self):\n",
    "        if self.root: # self.root 가 존재한다면 들여쓰기 된 코드 실행\n",
    "            self.root = self.root.next\n",
    "    \n",
    "    # 마지막 값을 삭제하는 메서드\n",
    "    def pop_last(self):\n",
    "        if self.root is None: # root에 아무것도 할당되어 있지 않으면 pass\n",
    "            pass\n",
    "        elif self.root.next is None: # root 다음 값이 없으면 root를 삭제\n",
    "            self.root = None\n",
    "        else: # root에 node가 할당되어 있을때만 실행한다.\n",
    "            curr = self.root # 시작은 root\n",
    "            while curr.next.next: # 마지막 node 1개 전 node에서 멈춘다.\n",
    "                curr = curr.next # 이동\n",
    "            curr.next = None # 마지막 node를 없앤다.\n",
    "    \n",
    "    # 특정 값을 갖고있는 node 출력\n",
    "    def search(self, num : int) -> Node:\n",
    "        if self.root:\n",
    "            curr = self.root\n",
    "            while curr:\n",
    "                if num == curr.data:\n",
    "                    result = curr\n",
    "                else:\n",
    "                    pass\n",
    "                curr = curr.next\n",
    "#             return curr"
   ]
  },
  {
   "cell_type": "code",
   "execution_count": 139,
   "id": "978284c6",
   "metadata": {},
   "outputs": [
    {
     "name": "stdout",
     "output_type": "stream",
     "text": [
      "root -> 19 -> 13 -> 15 -> 30 -> 10 "
     ]
    }
   ],
   "source": [
    "l = LinkedList() # l에 LinkedList 클래스 바인딩\n",
    "\n",
    "# 노드 호출 및 연결\n",
    "l.push(Node(10))\n",
    "l.push(Node(30))\n",
    "l.push(Node(15))\n",
    "l.push(Node(13))\n",
    "l.push(Node(19))\n",
    "l.show()"
   ]
  },
  {
   "cell_type": "code",
   "execution_count": 133,
   "id": "25830cc6",
   "metadata": {},
   "outputs": [
    {
     "name": "stdout",
     "output_type": "stream",
     "text": [
      "root -> 19 -> 13 -> 15 -> 30 "
     ]
    }
   ],
   "source": [
    "l.show_test()"
   ]
  },
  {
   "cell_type": "code",
   "execution_count": 134,
   "id": "5cb7f4d3",
   "metadata": {},
   "outputs": [
    {
     "name": "stdout",
     "output_type": "stream",
     "text": [
      "30\n"
     ]
    }
   ],
   "source": [
    "print(l.find_max())"
   ]
  },
  {
   "cell_type": "code",
   "execution_count": 138,
   "id": "d3e50a12",
   "metadata": {},
   "outputs": [
    {
     "name": "stdout",
     "output_type": "stream",
     "text": [
      "root -> 10 -> 30 -> 15 -> 13 -> 19 "
     ]
    }
   ],
   "source": [
    "l = LinkedList() # l에 LinkedList 클래스 바인딩\n",
    "\n",
    "# 노드 호출 및 연결\n",
    "l.append(Node(10))\n",
    "l.append(Node(30))\n",
    "l.append(Node(15))\n",
    "l.append(Node(13))\n",
    "l.append(Node(19))\n",
    "\n",
    "l.show()"
   ]
  },
  {
   "cell_type": "code",
   "execution_count": 159,
   "id": "30e9e309",
   "metadata": {},
   "outputs": [
    {
     "name": "stdout",
     "output_type": "stream",
     "text": [
      "root -> 30 -> 15 -> 13 -> 19 "
     ]
    }
   ],
   "source": [
    "l = LinkedList() # l에 LinkedList 클래스 바인딩\n",
    "\n",
    "# 노드 호출 및 연결\n",
    "l.append(Node(10))\n",
    "l.append(Node(30))\n",
    "l.append(Node(15))\n",
    "l.append(Node(13))\n",
    "l.append(Node(19))\n",
    "l.pop_front()\n",
    "\n",
    "l.show()"
   ]
  },
  {
   "cell_type": "code",
   "execution_count": 161,
   "id": "dec82e75",
   "metadata": {},
   "outputs": [
    {
     "name": "stdout",
     "output_type": "stream",
     "text": [
      "root -> 10 "
     ]
    }
   ],
   "source": [
    "l = LinkedList() # l에 LinkedList 클래스 바인딩\n",
    "\n",
    "# 노드 호출 및 연결\n",
    "l.append(Node(10))\n",
    "l.append(Node(30))\n",
    "# l.append(Node(15))\n",
    "# l.append(Node(13))\n",
    "# l.append(Node(19))\n",
    "l.pop_last()\n",
    "\n",
    "l.show()"
   ]
  },
  {
   "cell_type": "code",
   "execution_count": 141,
   "id": "a18ea5f6",
   "metadata": {},
   "outputs": [
    {
     "name": "stdout",
     "output_type": "stream",
     "text": [
      "root -> 10 "
     ]
    }
   ],
   "source": [
    "l = LinkedList() # l에 LinkedList 클래스 바인딩\n",
    "\n",
    "# 노드 호출 및 연결\n",
    "l.sortedlist(Node(10))\n",
    "l.sortedlist(Node(30))\n",
    "l.sortedlist(Node(15))\n",
    "l.sortedlist(Node(13))\n",
    "l.sortedlist(Node(19))\n",
    "\n",
    "l.show()"
   ]
  },
  {
   "cell_type": "code",
   "execution_count": 173,
   "id": "e6043070",
   "metadata": {},
   "outputs": [
    {
     "name": "stdout",
     "output_type": "stream",
     "text": [
      "1\n"
     ]
    }
   ],
   "source": [
    "l = LinkedList()\n",
    "\n",
    "a = Node(0)\n",
    "b = Node(1)\n",
    "c = Node(2)\n",
    "\n",
    "l.push(a)\n",
    "l.push(b)\n",
    "l.push(c)\n",
    "\n",
    "l.search(1)"
   ]
  }
 ],
 "metadata": {
  "kernelspec": {
   "display_name": "Python 3 (ipykernel)",
   "language": "python",
   "name": "python3"
  },
  "language_info": {
   "codemirror_mode": {
    "name": "ipython",
    "version": 3
   },
   "file_extension": ".py",
   "mimetype": "text/x-python",
   "name": "python",
   "nbconvert_exporter": "python",
   "pygments_lexer": "ipython3",
   "version": "3.7.16"
  }
 },
 "nbformat": 4,
 "nbformat_minor": 5
}
