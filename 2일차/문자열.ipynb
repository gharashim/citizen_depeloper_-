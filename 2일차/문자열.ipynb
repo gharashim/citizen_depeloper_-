{
 "cells": [
  {
   "cell_type": "markdown",
   "id": "9c6f7821",
   "metadata": {},
   "source": [
    "## 문자열과 메서드"
   ]
  },
  {
   "cell_type": "markdown",
   "id": "7cc83b65",
   "metadata": {},
   "source": [
    "### 연습문제 1 : replace 기능을 지원하는 MyStr 클래스를 정의하라\n",
    "- 반복문 사용"
   ]
  },
  {
   "cell_type": "code",
   "execution_count": 1,
   "id": "0bd9fab4",
   "metadata": {},
   "outputs": [],
   "source": [
    "class MyStr:\n",
    "    def __init__(self, val) -> None:\n",
    "        self.data = val\n",
    "    \n",
    "    def replace(self, old, new) -> str:\n",
    "        for i in range(len(self.data)):\n",
    "            if self.data[i] == old:\n",
    "                self.data = self.data[:i] + new + self.data[i+1:]\n",
    "        return self.data"
   ]
  },
  {
   "cell_type": "code",
   "execution_count": 2,
   "id": "d8f46d95",
   "metadata": {},
   "outputs": [
    {
     "name": "stdout",
     "output_type": "stream",
     "text": [
      "hahahahahahahahahahahahahahahhahahhahahahahhahahaha\n",
      "hahahahahahahahahahahahahahahhahahhahahahahhahahaha\n"
     ]
    }
   ],
   "source": [
    "a = MyStr('hihihihihihihihihihihihihihihhihihhihihihihhihihihi')\n",
    "result = a.replace('i', 'a') # a의 replace 메서드가 반환하는 값을 result에 바인딩\n",
    "print(a.data) # a의 data property 값을 출력\n",
    "print(result) # result 값을 출력 : a의 replace 메서드가 반환하는 값 "
   ]
  },
  {
   "cell_type": "code",
   "execution_count": 3,
   "id": "74cc9c3f",
   "metadata": {},
   "outputs": [],
   "source": [
    "class MyStr:\n",
    "    def __init__(self, val) -> None:\n",
    "        self.data = val\n",
    "    \n",
    "    def replace(self, old, new) -> str:\n",
    "        result = ''\n",
    "        for c in self.data:\n",
    "            if c == old:\n",
    "                result += new\n",
    "            else:\n",
    "                result += c\n",
    "        self.data = result\n",
    "        return result\n",
    "    \n",
    "    def __str__(self):\n",
    "        return '__str__ 은 클래스를 호출하면 기본으로 출력되는 값을 반환한다'"
   ]
  },
  {
   "cell_type": "code",
   "execution_count": 4,
   "id": "0b3c675c",
   "metadata": {},
   "outputs": [
    {
     "name": "stdout",
     "output_type": "stream",
     "text": [
      "hahahahahahahahahahahahahahahhahahhahahahahhahahaha\n",
      "hahahahahahahahahahahahahahahhahahhahahahahhahahaha\n"
     ]
    }
   ],
   "source": [
    "a = MyStr('hihihihihihihihihihihihihihihhihihhihihihihhihihihi')\n",
    "result = a.replace('i', 'a') # a의 replace 메서드가 반환하는 값을 result에 바인딩\n",
    "print(a.data) # a의 data property 값을 출력\n",
    "print(result) # result 값을 출력 : a의 replace 메서드가 반환하는 값 "
   ]
  },
  {
   "cell_type": "markdown",
   "id": "01c0db8a",
   "metadata": {},
   "source": [
    "__str__은 파이썬 클래스에서 정의할 수 있는 특별한 메서드 중 하나입니다. 이 메서드는 인스턴스를 문자열로 표현할 때 사용됩니다. 예를 들어, 클래스가 Person이고 Person의 인스턴스인 p1이 있을 경우, p1을 출력하려면 print(p1)을 사용하면 됩니다. 이때 str 메서드가 호출되어 문자열로 변환됩니다."
   ]
  },
  {
   "cell_type": "code",
   "execution_count": 5,
   "id": "30caa96d",
   "metadata": {},
   "outputs": [
    {
     "name": "stdout",
     "output_type": "stream",
     "text": [
      "__str__ 은 클래스를 호출하면 기본으로 출력되는 값을 반환한다\n"
     ]
    }
   ],
   "source": [
    "print(a)"
   ]
  },
  {
   "cell_type": "markdown",
   "id": "39573eba",
   "metadata": {},
   "source": [
    "### 인코딩과 디코딩"
   ]
  },
  {
   "cell_type": "markdown",
   "id": "b24ecefa",
   "metadata": {},
   "source": [
    "- 인코딩 : 문자를 컴퓨터가 이해할 수 있는 숫자로 변환\n",
    "- 디코딩 : 컴퓨터가 이해할 수 있는 숫자를 문자로 변환"
   ]
  },
  {
   "cell_type": "code",
   "execution_count": 6,
   "id": "2acda717",
   "metadata": {},
   "outputs": [
    {
     "data": {
      "text/plain": [
       "False"
      ]
     },
     "execution_count": 6,
     "metadata": {},
     "output_type": "execute_result"
    }
   ],
   "source": [
    "'a' < 'A'"
   ]
  },
  {
   "cell_type": "markdown",
   "id": "4c467213",
   "metadata": {},
   "source": [
    "문자마다 숫자로 인코딩 되기 때문에 대소 비교를 통해 참/거짓 판별하는 logic이 구동된다."
   ]
  },
  {
   "cell_type": "markdown",
   "id": "02b6d835",
   "metadata": {},
   "source": [
    "- 인코딩 옵션마다 사용하는 table이 다르다.\n",
    "- Python에서 읽어오는 파일의 encoding 방식을 파악 후 동일 table로 decoding 해야 한다."
   ]
  },
  {
   "cell_type": "markdown",
   "id": "c73a0c9c",
   "metadata": {},
   "source": [
    "## 정규 표현식 (Regular Expression)"
   ]
  },
  {
   "cell_type": "markdown",
   "id": "da69b219",
   "metadata": {},
   "source": [
    "- re 모듈 사용 : 정규 표현식을 다루는 모듈"
   ]
  },
  {
   "cell_type": "markdown",
   "id": "adbbefb1",
   "metadata": {},
   "source": [
    "- findall 함수"
   ]
  },
  {
   "cell_type": "code",
   "execution_count": 7,
   "id": "90f29636",
   "metadata": {},
   "outputs": [
    {
     "name": "stdout",
     "output_type": "stream",
     "text": [
      "<class 're.Pattern'>\n",
      "['가능', '가능']\n"
     ]
    }
   ],
   "source": [
    "import re\n",
    "\n",
    "text = '불가능을 가능하게!'\n",
    "p = re.compile('가능')\n",
    "print(type(p)) # re 모듈의 compile() 메서드는 객체인 Pattern을 반환\n",
    "m = re.findall(p, text) # findaall을 list를 반환\n",
    "print(m)"
   ]
  },
  {
   "cell_type": "code",
   "execution_count": 8,
   "id": "ca8e4586",
   "metadata": {},
   "outputs": [
    {
     "name": "stdout",
     "output_type": "stream",
     "text": [
      "['가능', '가능']\n"
     ]
    }
   ],
   "source": [
    "m = p.findall(text) # re의 Pattern 객체에 대해서도 findall 메서드 적용 가능\n",
    "print(m)"
   ]
  },
  {
   "cell_type": "code",
   "execution_count": 9,
   "id": "2dbe36bd",
   "metadata": {},
   "outputs": [
    {
     "name": "stdout",
     "output_type": "stream",
     "text": [
      "\\\\\n",
      "\\\n"
     ]
    }
   ],
   "source": [
    "# raw string\n",
    "print(r'\\\\') # r을 붙이는 것은 '진짜' 문자라는 뜻\n",
    "print('\\\\') # 파이썬에서 \\은 특수 기능"
   ]
  },
  {
   "cell_type": "code",
   "execution_count": 10,
   "id": "76a848af",
   "metadata": {},
   "outputs": [
    {
     "name": "stdout",
     "output_type": "stream",
     "text": [
      "['가능', '가능']\n"
     ]
    }
   ],
   "source": [
    "text = '불가능을 가능하게!'\n",
    "# re module은 raw-string prefix를 붙인 입력을 기본으로 설정하고 있다.\n",
    "p = re.compile(r'가능')\n",
    "m = re.findall(p, text)\n",
    "print(m)"
   ]
  },
  {
   "cell_type": "code",
   "execution_count": 11,
   "id": "70416e0d",
   "metadata": {},
   "outputs": [
    {
     "name": "stdout",
     "output_type": "stream",
     "text": [
      "2\n"
     ]
    }
   ],
   "source": [
    "print(len(m)) # text에서 '가능' 이란 문자의 빈도수 계산"
   ]
  },
  {
   "cell_type": "markdown",
   "id": "75dc7ec5",
   "metadata": {},
   "source": [
    "split 함수"
   ]
  },
  {
   "cell_type": "code",
   "execution_count": 12,
   "id": "11549cd7",
   "metadata": {},
   "outputs": [
    {
     "name": "stdout",
     "output_type": "stream",
     "text": [
      "['불', '을 ', '하게!']\n"
     ]
    }
   ],
   "source": [
    "n = re.split(p, text) # p를 기준으로 text를 split 하여 list 반환\n",
    "print(n)"
   ]
  },
  {
   "cell_type": "markdown",
   "id": "00f3ae3b",
   "metadata": {},
   "source": [
    "sub 함수\n",
    "- sub(a, b, text)\n",
    "    - a : 컴파일 된 정규 표현식\n",
    "    - b : 교체할 문자\n",
    "    - text : 교체될 문자열"
   ]
  },
  {
   "cell_type": "code",
   "execution_count": 13,
   "id": "39c78601",
   "metadata": {},
   "outputs": [
    {
     "name": "stdout",
     "output_type": "stream",
     "text": [
      "010/1234/5678\n"
     ]
    }
   ],
   "source": [
    "text = \"010-1234-5678\"\n",
    "p = re.compile(r\"-\")\n",
    "m = re. sub(p, \"/\", text)\n",
    "print(m)"
   ]
  },
  {
   "cell_type": "markdown",
   "id": "ec773997",
   "metadata": {},
   "source": [
    "- pattern 캡처 활용 가능"
   ]
  },
  {
   "cell_type": "code",
   "execution_count": 14,
   "id": "9b5f6411",
   "metadata": {},
   "outputs": [
    {
     "name": "stdout",
     "output_type": "stream",
     "text": [
      "010@1234-5678\n"
     ]
    }
   ],
   "source": [
    "text = \"010-1234-5678\"\n",
    "p = re.compile(r\"010-\")\n",
    "m = re. sub(p, r\"010@\", text)\n",
    "print(m)"
   ]
  },
  {
   "cell_type": "code",
   "execution_count": 15,
   "id": "ceed5c80",
   "metadata": {},
   "outputs": [
    {
     "name": "stdout",
     "output_type": "stream",
     "text": [
      "010@1234-5678\n"
     ]
    }
   ],
   "source": [
    "text = \"010-1234-5678\"\n",
    "p = re.compile(r\"(010)-\") # 괄호로 묶는 이유는??? -> '괄호 안의 값을 기억해라'라는 지시 : 패턴캡쳐\n",
    "m = p. sub(r\"\\1@\", text) # 축약형으로 사용 가능 \\1의 의미?? ( )로 캡쳐한 것을 의미\n",
    "print(m)"
   ]
  },
  {
   "cell_type": "markdown",
   "id": "63846c00",
   "metadata": {},
   "source": [
    "- 순서 바꾸기 가능"
   ]
  },
  {
   "cell_type": "code",
   "execution_count": 16,
   "id": "bc6ecc9c",
   "metadata": {},
   "outputs": [
    {
     "name": "stdout",
     "output_type": "stream",
     "text": [
      "010-5678-1234\n"
     ]
    }
   ],
   "source": [
    "text = \"010-1234-5678\"\n",
    "p = re.compile(r\"(1234)-(5678)\") # 괄호로 묶는 이유는???\n",
    "m = p. sub(r\"\\2-\\1\", text) # 축약형으로 사용 가능\n",
    "print(m)"
   ]
  },
  {
   "cell_type": "markdown",
   "id": "82025d41",
   "metadata": {},
   "source": [
    "- compile은 찾을 문자 혹은 패턴 입력"
   ]
  },
  {
   "cell_type": "code",
   "execution_count": 17,
   "id": "24d3072c",
   "metadata": {},
   "outputs": [
    {
     "name": "stdout",
     "output_type": "stream",
     "text": [
      "010-5678-1234\n"
     ]
    }
   ],
   "source": [
    "text = \"010-1234-5678\"\n",
    "p = re.compile(r\"(\\d{4})-(\\d{4})\") # 괄호로 묶는 이유는???\n",
    "m = p. sub(r\"\\2-\\1\", text) # 축약형으로 사용 가능\n",
    "print(m)"
   ]
  },
  {
   "cell_type": "markdown",
   "id": "aac1e8ab",
   "metadata": {},
   "source": [
    "- 문자열에 괄호가 있다면?"
   ]
  },
  {
   "cell_type": "code",
   "execution_count": 18,
   "id": "e7c02f43",
   "metadata": {},
   "outputs": [
    {
     "name": "stdout",
     "output_type": "stream",
     "text": [
      "치환-1234-5678\n"
     ]
    }
   ],
   "source": [
    "text = \"(010)-1234-5678\" # 문자열에 진짜 괄호 있음\n",
    "p = re.compile(r\"(\\(010\\))\") # 진짜 괄호 찾기 위해서 \\(역슬래쉬)를 괄호 앞에 붙인다.\n",
    "m = p. sub(r\"치환\", text) # 축약형으로 사용 가능\n",
    "print(m)"
   ]
  },
  {
   "cell_type": "markdown",
   "id": "fa801ec7",
   "metadata": {},
   "source": [
    "#### 패턴 캡쳐"
   ]
  },
  {
   "cell_type": "markdown",
   "id": "3a294ee5",
   "metadata": {},
   "source": [
    "- 파이썬에서 정규 표현식을 사용하여 패턴 캡처를 수행할 수 있습니다. 패턴 캡처는 일치하는 문자열에서 특정 부분을 추출하는 것을 의미합니다."
   ]
  },
  {
   "cell_type": "code",
   "execution_count": 19,
   "id": "402d0de6",
   "metadata": {},
   "outputs": [
    {
     "name": "stdout",
     "output_type": "stream",
     "text": [
      "21/09/06\n"
     ]
    }
   ],
   "source": [
    "text = '21/06/09'\n",
    "\n",
    "p = re.compile(r'(06)/(09)')\n",
    "m = re.sub(p, r'\\2/\\1', text)\n",
    "print(m)"
   ]
  },
  {
   "cell_type": "code",
   "execution_count": 20,
   "id": "080f816b",
   "metadata": {},
   "outputs": [
    {
     "name": "stdout",
     "output_type": "stream",
     "text": [
      "Phone number found: 123-456-7890\n",
      "Area code: 123\n",
      "Exchange code: 456\n",
      "Number: 7890\n",
      "My phone number is 7890-456-123\n"
     ]
    }
   ],
   "source": [
    "import re\n",
    "\n",
    "text = \"My phone number is 123-456-7890\"\n",
    "pattern = r\"(\\d{3})-(\\d{3})-(\\d{4})\"\n",
    "match = re.search(pattern, text)\n",
    "\n",
    "if match:\n",
    "    print(\"Phone number found:\", match.group())\n",
    "    print(\"Area code:\", match.group(1))\n",
    "    print(\"Exchange code:\", match.group(2))\n",
    "    print(\"Number:\", match.group(3))\n",
    "else:\n",
    "    print(\"Phone number not found\")\n",
    "    \n",
    "m = re.sub(pattern, r'\\3-\\2-\\1', text)\n",
    "print(m)"
   ]
  },
  {
   "cell_type": "markdown",
   "id": "c7fe247c",
   "metadata": {},
   "source": [
    "### 메타 문자"
   ]
  },
  {
   "cell_type": "markdown",
   "id": "11e87f58",
   "metadata": {},
   "source": [
    "연습문제 1"
   ]
  },
  {
   "cell_type": "code",
   "execution_count": 21,
   "id": "8ba626ce",
   "metadata": {},
   "outputs": [
    {
     "name": "stdout",
     "output_type": "stream",
     "text": [
      "['a1.xls', 'b1.xls']\n",
      "['a1.xls', 'b1.xls', '람1.xls', '뛝1.xls', '23.xls', '34.xls']\n",
      "['a1.xls', 'b1.xls', 'c1.xls', 'abc0.xls', 'abc1.xls']\n",
      "['가람1.xls', '뷁뛝1.xls']\n",
      "['a1.xls', 'abc0.xls', 'abc1.xls', 'a가람123.xls']\n",
      "['a1.xls', 'abc0.xls', 'abc1.xls', 'a가람123.xls', 'a .xls', 'a    .xls']\n",
      "['b1234.xlsx']\n"
     ]
    }
   ],
   "source": [
    "text = '''\n",
    "a1.xls\n",
    "b1.xls\n",
    "c1.xls\n",
    "abc0.xls\n",
    "abc1.xls\n",
    "가람1.xls\n",
    "뷁뛝1.xls\n",
    "a가람123.xls\n",
    "a .xls\n",
    "a    .xls\n",
    "b1234.xlsx\n",
    "'''\n",
    "pattern = r'[ab][0-9]\\.xls'\n",
    "p = re.compile(pattern)\n",
    "m = p.findall(text)\n",
    "print(m)\n",
    "\n",
    "\n",
    "pattern = r'[^c][0-9]\\.xls'\n",
    "p = re.compile(pattern)\n",
    "m = p.findall(text)\n",
    "print(m)\n",
    "\n",
    "pattern = r'[A-z]{1,}[0-9]{1}\\.xls' # 문자 한번 이상, 숫자 한번\n",
    "p = re.compile(pattern)\n",
    "m = p.findall(text)\n",
    "print(m)\n",
    "\n",
    "pattern = r'[가-힣]{1,}[0-9]{1}\\.xls' # 한글\n",
    "p = re.compile(pattern)\n",
    "m = p.findall(text)\n",
    "print(m)\n",
    "\n",
    "pattern = r'^a[A-z가-힣0-9]*\\.xls' # a로 시작하는 엑셀 파일, !*은 앞의 문자가 0번 이상!\n",
    "p = re.compile(pattern, re.MULTILINE) # MULTILINE은 라인별로 정규식을 적용\n",
    "# compile 메서드에서 MULTILINE 사용하지 않으면 text를 하나의 줄로 인식하여 \\n 도 문자로 인식. ^a 와 같은 표현 적용 안된다!!\n",
    "m = p.findall(text)\n",
    "print(m)\n",
    "\n",
    "pattern = r'^a.*\\.xls' # a로 시작하는 엑셀 파일, !*은 앞의 문자가 0번 이상! > .* 아무 문자나 0번 이상\n",
    "# . 마침표는 공백도 포함한다\n",
    "p = re.compile(pattern, re.MULTILINE) # MULTILINE은 라인별로 정규식을 적용\n",
    "m = p.findall(text)\n",
    "print(m)\n",
    "\n",
    "pattern = r'.*\\.xlsx' # a로 시작하는 엑셀 파일, !*은 앞의 문자가 0번 이상! > .* 아무 문자나 0번 이상\n",
    "# . 마침표는 공백도 포함한다\n",
    "p = re.compile(pattern, re.MULTILINE) # MULTILINE은 라인별로 정규식을 적용\n",
    "m = p.findall(text)\n",
    "print(m)"
   ]
  },
  {
   "cell_type": "code",
   "execution_count": 22,
   "id": "0bf7184c",
   "metadata": {},
   "outputs": [
    {
     "name": "stdout",
     "output_type": "stream",
     "text": [
      "['asdfadsf.h', 'asdfwewer.x', 'asdfsxdf.x', 'qwerqwe.h']\n"
     ]
    }
   ],
   "source": [
    "text ='''\n",
    "asdfadsf.hwp\n",
    "asdfwewer.xls\n",
    "asdfsxdf.xls\n",
    "qwerqwe.hwp\n",
    "'''\n",
    "\n",
    "pattern = r'\\w*\\.[hwp|xls]'\n",
    "p = re.compile(pattern, re.MULTILINE)\n",
    "m = re.findall(p, text)\n",
    "print(m)"
   ]
  },
  {
   "cell_type": "markdown",
   "id": "a86bc4f7",
   "metadata": {},
   "source": [
    "### 문자 클래스"
   ]
  },
  {
   "cell_type": "code",
   "execution_count": 23,
   "id": "1bc84584",
   "metadata": {},
   "outputs": [
    {
     "name": "stdout",
     "output_type": "stream",
     "text": [
      "['asdfwewer.xls', 'asdfsxdf.xls']\n"
     ]
    }
   ],
   "source": [
    "pattern = r'\\w*\\d*\\.xls' # \\w : [a-z], \\d : [0-9]\n",
    "# . 마침표는 공백도 포함한다\n",
    "p = re.compile(pattern, re.MULTILINE) # MULTILINE은 라인별로 정규식을 적용\n",
    "m = p.findall(text)\n",
    "print(m)"
   ]
  },
  {
   "cell_type": "code",
   "execution_count": 24,
   "id": "3a06496f",
   "metadata": {},
   "outputs": [],
   "source": [
    "text = '''\n",
    "Send personal email to ben@forta.com\n",
    "For questions\n",
    "about a book use support@forta.com\n",
    "Feel free to send\n",
    "unsolicited email to spam@forta.com\n",
    "(wouldn't it be\n",
    "nice if it were that simple, huh?)\n",
    "'''"
   ]
  },
  {
   "cell_type": "code",
   "execution_count": 25,
   "id": "3ca5b5ea",
   "metadata": {},
   "outputs": [
    {
     "name": "stdout",
     "output_type": "stream",
     "text": [
      "['ben@forta.com', 'support@forta.com', 'spam@forta.com']\n"
     ]
    }
   ],
   "source": [
    "# e-mail 주소만 가져오기\n",
    "pattern = r'\\w*@\\w*\\.com'\n",
    "p = re.compile(pattern, re.MULTILINE)\n",
    "m = re.findall(p, text)\n",
    "print(m)"
   ]
  }
 ],
 "metadata": {
  "kernelspec": {
   "display_name": "Python 3 (ipykernel)",
   "language": "python",
   "name": "python3"
  },
  "language_info": {
   "codemirror_mode": {
    "name": "ipython",
    "version": 3
   },
   "file_extension": ".py",
   "mimetype": "text/x-python",
   "name": "python",
   "nbconvert_exporter": "python",
   "pygments_lexer": "ipython3",
   "version": "3.7.16"
  }
 },
 "nbformat": 4,
 "nbformat_minor": 5
}
