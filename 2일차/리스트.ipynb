{
 "cells": [
  {
   "cell_type": "markdown",
   "id": "b52ba1bb",
   "metadata": {},
   "source": [
    "#### 연습문제"
   ]
  },
  {
   "cell_type": "code",
   "execution_count": 1,
   "id": "6a5f98e2",
   "metadata": {},
   "outputs": [],
   "source": [
    "class 사람:\n",
    "    def __init__(self, name):\n",
    "        self.name = name\n",
    "    \n",
    "자료구조 = [ 사람('김가람'), 사람('임선빈')]"
   ]
  },
  {
   "cell_type": "code",
   "execution_count": 2,
   "id": "8a791673",
   "metadata": {},
   "outputs": [
    {
     "data": {
      "text/plain": [
       "[<__main__.사람 at 0x23cb39aa488>, <__main__.사람 at 0x23cb39bcb08>]"
      ]
     },
     "execution_count": 2,
     "metadata": {},
     "output_type": "execute_result"
    }
   ],
   "source": [
    "자료구조"
   ]
  },
  {
   "cell_type": "markdown",
   "id": "5327673e",
   "metadata": {},
   "source": [
    "### 얕은 복사\n",
    "- 참조에 의한 할당으로 최소한의 복사"
   ]
  },
  {
   "cell_type": "markdown",
   "id": "e6489285",
   "metadata": {},
   "source": [
    "파이썬에서 변수에 대한 복사는 값 복사와 참조 복사로 나눌 수 있습니다.\n",
    "\n",
    "값 복사(Value copy)는 변수에 저장된 값 자체를 복사하여 새로운 변수를 생성하는 것을 말합니다. 따라서 변수에 대한 값을 변경하더라도, 다른 변수에는 영향을 주지 않습니다. 이는 숫자, 문자열 등 불변 객체(Immutable Object)에 대해서만 적용됩니다.\n",
    "\n",
    "참조 복사(Reference copy)는 변수에 저장된 값이 객체일 경우, 해당 객체의 참조(Reference)를 복사하여 새로운 변수를 생성하는 것을 말합니다. 따라서 변수에 대한 참조를 변경하면, 다른 변수에도 영향을 줄 수 있습니다. 이는 리스트, 딕셔너리 등 변경 가능한 객체(Mutable Object)에 대해서 적용됩니다.\n",
    "\n",
    "따라서 변수에 얕은 복사가 가능한 경우는, 변수가 불변 객체일 때입니다.\n",
    "\n",
    "변경 가능한 객체의 복사는 깊은 복사가 필요 합니다"
   ]
  },
  {
   "cell_type": "code",
   "execution_count": 3,
   "id": "50a2ec0d",
   "metadata": {},
   "outputs": [
    {
     "name": "stdout",
     "output_type": "stream",
     "text": [
      "[0, 1, 2]\n",
      "[2, 1, 2]\n"
     ]
    }
   ],
   "source": [
    "data = [0, 1, 2]\n",
    "p = data\n",
    "print(data)\n",
    "\n",
    "data[0] = 2\n",
    "print(data)"
   ]
  },
  {
   "cell_type": "code",
   "execution_count": 24,
   "id": "db5206e0",
   "metadata": {},
   "outputs": [
    {
     "name": "stdout",
     "output_type": "stream",
     "text": [
      "259 259\n",
      "420394 259\n"
     ]
    }
   ],
   "source": [
    "a = 259\n",
    "b = a\n",
    "\n",
    "print(a, b)\n",
    "a = 420394\n",
    "print(a, b)"
   ]
  },
  {
   "cell_type": "markdown",
   "id": "57d4b55d",
   "metadata": {},
   "source": [
    "### 비교 연산자 (IS)"
   ]
  },
  {
   "cell_type": "code",
   "execution_count": 4,
   "id": "b8cc4632",
   "metadata": {},
   "outputs": [
    {
     "name": "stdout",
     "output_type": "stream",
     "text": [
      "False\n",
      "True\n"
     ]
    }
   ],
   "source": [
    "cand0 = [1, 2, 3]\n",
    "cand1 = [1, 2, 3]\n",
    "\n",
    "print(cand0 is cand1) # 메모리 주소를 비고\n",
    "print(cand0 == cand1) # 실제 값을 비교"
   ]
  },
  {
   "cell_type": "markdown",
   "id": "53e9c831",
   "metadata": {},
   "source": [
    "### 깊은 복사\n",
    "- 메모리에 객체를 복사해서 추가 생성"
   ]
  },
  {
   "cell_type": "code",
   "execution_count": 5,
   "id": "b7d8d1e8",
   "metadata": {},
   "outputs": [
    {
     "name": "stdout",
     "output_type": "stream",
     "text": [
      "[0, 1, 2] [0, 1, 2]\n",
      "[2, 1, 2] [0, 1, 2]\n"
     ]
    }
   ],
   "source": [
    "import copy\n",
    "data = [0, 1, 2]\n",
    "p = copy.deepcopy(data)\n",
    "print(data, p)\n",
    "\n",
    "data[0] = 2\n",
    "print(data, p)"
   ]
  },
  {
   "cell_type": "markdown",
   "id": "a4fe5e15",
   "metadata": {},
   "source": [
    "### 연습 문제 - 파이썬의 착한 거짓말\n",
    "- 다음 코드는 깊은 복사인가? 얕은 복사인가?"
   ]
  },
  {
   "cell_type": "code",
   "execution_count": 6,
   "id": "0c919b8d",
   "metadata": {},
   "outputs": [
    {
     "name": "stdout",
     "output_type": "stream",
     "text": [
      "True\n",
      "False\n"
     ]
    }
   ],
   "source": [
    "a = [1, 2, 3]\n",
    "b = list(a) # list() 객체를 만들고 a의 값만을 할당\n",
    "\n",
    "print(a == b) # 값은 동일\n",
    "print(a is b) # 메모리 주소 다름"
   ]
  },
  {
   "cell_type": "code",
   "execution_count": 7,
   "id": "2662ecd3",
   "metadata": {},
   "outputs": [
    {
     "name": "stdout",
     "output_type": "stream",
     "text": [
      "True\n",
      "False\n"
     ]
    }
   ],
   "source": [
    "a = [1, 2, 3]\n",
    "b = a[1:] # b라는 객체를 만들고 a의 [1]부터의 값만을 할당\n",
    "\n",
    "print(a[1:] == b) # 값은 동일\n",
    "print(a[1:] is b) # 메모리 주소 다름"
   ]
  },
  {
   "cell_type": "markdown",
   "id": "e179b3b2",
   "metadata": {},
   "source": [
    "#### 문자열 복사 ####"
   ]
  },
  {
   "cell_type": "code",
   "execution_count": 25,
   "id": "20019712",
   "metadata": {},
   "outputs": [
    {
     "name": "stdout",
     "output_type": "stream",
     "text": [
      "True\n",
      "True\n",
      "Hi Hi\n",
      "hi Hi\n"
     ]
    }
   ],
   "source": [
    "c = 'Hi'\n",
    "d = str(c)\n",
    "\n",
    "print(c == d)\n",
    "print(c is d) # 문자열은 얕은 복사?!?! > 문자는 참조에 의한 할당!!\n",
    "\n",
    "print(c, d)\n",
    "c = 'hi'\n",
    "print(c, d)"
   ]
  },
  {
   "cell_type": "markdown",
   "id": "73d750d1",
   "metadata": {},
   "source": [
    "문자열은 불변 객체이므로 변수 c에 대한 얕은 복사를 수행해도 새로운 변수가 생성되어 원래 변수와 값이 독립적으로 관리됩니다.\n",
    "\n",
    "따라서, c를 변경해도 d는 독립 관리 됩니다."
   ]
  },
  {
   "cell_type": "markdown",
   "id": "b0917c7f",
   "metadata": {},
   "source": [
    "### 리스트 컴프리헨션"
   ]
  },
  {
   "cell_type": "code",
   "execution_count": 26,
   "id": "d2310d93",
   "metadata": {},
   "outputs": [
    {
     "data": {
      "text/plain": [
       "[0, 1, 2, 3, 4, 5, 6, 7, 8, 9]"
      ]
     },
     "execution_count": 26,
     "metadata": {},
     "output_type": "execute_result"
    }
   ],
   "source": [
    "[i for i in range(10)]"
   ]
  }
 ],
 "metadata": {
  "kernelspec": {
   "display_name": "Python 3 (ipykernel)",
   "language": "python",
   "name": "python3"
  },
  "language_info": {
   "codemirror_mode": {
    "name": "ipython",
    "version": 3
   },
   "file_extension": ".py",
   "mimetype": "text/x-python",
   "name": "python",
   "nbconvert_exporter": "python",
   "pygments_lexer": "ipython3",
   "version": "3.7.16"
  }
 },
 "nbformat": 4,
 "nbformat_minor": 5
}
